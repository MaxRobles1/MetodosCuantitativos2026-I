{
 "cells": [
  {
   "cell_type": "markdown",
   "id": "9f4fb401-1a6e-475e-92d4-17a9b1a9fa49",
   "metadata": {},
   "source": [
    "## Métodos"
   ]
  },
  {
   "cell_type": "markdown",
   "id": "4a67d392-f64d-4d41-a6a3-be9a86a448be",
   "metadata": {},
   "source": [
    "Un método es básicamente una función asociada a un objeto. Es decir, mientras que una función se define de forma independiente y se llama directamente, un método \"pertenece\" a un objeto o clase y se invoca a través de él."
   ]
  },
  {
   "cell_type": "markdown",
   "id": "5c109d9b-7291-49a4-9546-5b666112e389",
   "metadata": {},
   "source": [
    "## Método index(): índice o posición: 0,1,2,...."
   ]
  },
  {
   "cell_type": "code",
   "execution_count": 4,
   "id": "a29e3f1b-7208-4dc4-8fc7-7ffb86449d40",
   "metadata": {},
   "outputs": [
    {
     "data": {
      "text/plain": [
       "'\\n    H  O  L  A ,    S  O  Y      M  A  X\\n    \\n    0  1  2  3 4  5 6  7  8   9  10  11 12\\n\\n'"
      ]
     },
     "execution_count": 4,
     "metadata": {},
     "output_type": "execute_result"
    }
   ],
   "source": [
    "'''\n",
    "    H  O  L  A ,    S  O  Y      M  A  X\n",
    "    \n",
    "    0  1  2  3 4  5 6  7  8   9  10  11 12\n",
    "\n",
    "'''"
   ]
  },
  {
   "cell_type": "code",
   "execution_count": 6,
   "id": "03e97365-24ec-49fe-ba1a-2ac41e828110",
   "metadata": {},
   "outputs": [
    {
     "name": "stdout",
     "output_type": "stream",
     "text": [
      " \n"
     ]
    }
   ],
   "source": [
    "saludo = 'Hola soy Max'\n",
    "\n",
    "print(saludo[8])"
   ]
  },
  {
   "cell_type": "code",
   "execution_count": 8,
   "id": "4866fbf1-445e-47b6-b173-d85a596bedbe",
   "metadata": {},
   "outputs": [],
   "source": [
    "#Nos ayuda a encontrar algún caracter \n",
    "saludo = 'Hola soy Max'"
   ]
  },
  {
   "cell_type": "code",
   "execution_count": 10,
   "id": "7e00b4a5-ca68-4bc4-b372-89c1561ebdec",
   "metadata": {},
   "outputs": [
    {
     "name": "stdout",
     "output_type": "stream",
     "text": [
      "1\n"
     ]
    }
   ],
   "source": [
    "print(saludo.index('o')) # Posición 1 (en python se inicia en 0)"
   ]
  },
  {
   "cell_type": "code",
   "execution_count": 12,
   "id": "a8a7847f-df40-497d-b282-4ad2ad9d9d96",
   "metadata": {},
   "outputs": [
    {
     "name": "stdout",
     "output_type": "stream",
     "text": [
      "a\n"
     ]
    }
   ],
   "source": [
    "print(saludo[3])"
   ]
  },
  {
   "cell_type": "code",
   "execution_count": 16,
   "id": "2336b295-e068-4803-a65c-130e85cd9cee",
   "metadata": {},
   "outputs": [
    {
     "name": "stdout",
     "output_type": "stream",
     "text": [
      " \n"
     ]
    }
   ],
   "source": [
    "print(saludo[8]) # Es un espacio"
   ]
  },
  {
   "cell_type": "code",
   "execution_count": 18,
   "id": "5ad6d308-e7db-4a2e-9e5b-92b4d37e6548",
   "metadata": {},
   "outputs": [
    {
     "name": "stdout",
     "output_type": "stream",
     "text": [
      "a soy Max\n"
     ]
    }
   ],
   "source": [
    "print(saludo[3:]) #Nos devuelve todo después de la posición 3 [posicion_inicial:poosicion_final]"
   ]
  },
  {
   "cell_type": "code",
   "execution_count": 20,
   "id": "df301e92-fefb-4b44-8fa5-2900838265c3",
   "metadata": {},
   "outputs": [
    {
     "name": "stdout",
     "output_type": "stream",
     "text": [
      "Hola soy Max\n"
     ]
    }
   ],
   "source": [
    "print(saludo[:]) #Nos devuelve todo"
   ]
  },
  {
   "cell_type": "code",
   "execution_count": 22,
   "id": "7d02f09f-9818-4246-bdca-214e4f060320",
   "metadata": {},
   "outputs": [
    {
     "name": "stdout",
     "output_type": "stream",
     "text": [
      "Hola \n"
     ]
    }
   ],
   "source": [
    "print(saludo[:5])   #[inicio : fin]"
   ]
  },
  {
   "cell_type": "code",
   "execution_count": 24,
   "id": "dce1b2f9-7474-4894-871d-a8dab8486ab8",
   "metadata": {},
   "outputs": [
    {
     "name": "stdout",
     "output_type": "stream",
     "text": [
      "l\n"
     ]
    }
   ],
   "source": [
    "texto = 'El mercado está a la alza'\n",
    "resultado = texto[-3] #Nos trae la búsqueda del fin al inicio\n",
    "print(resultado) "
   ]
  },
  {
   "cell_type": "code",
   "execution_count": 26,
   "id": "cb242c4e-59f3-4b1d-b209-eb8e7197c5a8",
   "metadata": {},
   "outputs": [
    {
     "name": "stdout",
     "output_type": "stream",
     "text": [
      "0\n"
     ]
    }
   ],
   "source": [
    "resultado = texto.index('El mercado')\n",
    "print(resultado)"
   ]
  },
  {
   "cell_type": "code",
   "execution_count": 28,
   "id": "c76c466e-b372-4770-96a8-9caef2f872d9",
   "metadata": {},
   "outputs": [
    {
     "name": "stdout",
     "output_type": "stream",
     "text": [
      "16\n"
     ]
    }
   ],
   "source": [
    "resultado = texto.index('a',8)\n",
    "print(resultado)"
   ]
  },
  {
   "cell_type": "code",
   "execution_count": 30,
   "id": "8480bdca-ea43-4c41-abb1-556ea9e3c422",
   "metadata": {},
   "outputs": [
    {
     "name": "stdout",
     "output_type": "stream",
     "text": [
      "7\n"
     ]
    }
   ],
   "source": [
    "resultado = texto.index('a',5,9)\n",
    "print(resultado)"
   ]
  },
  {
   "cell_type": "code",
   "execution_count": 32,
   "id": "30a59db1-34f3-4595-8409-f363b907af08",
   "metadata": {},
   "outputs": [
    {
     "name": "stdout",
     "output_type": "stream",
     "text": [
      "24\n"
     ]
    }
   ],
   "source": [
    "texto = 'El mercado está a la alza'\n",
    "buscar = texto.rindex('a') #Nos da posición donde encuentra la primera letra a\n",
    "print(buscar)"
   ]
  },
  {
   "cell_type": "code",
   "execution_count": null,
   "id": "bde2889a-4f96-42ba-90fd-dc0dcf454b3d",
   "metadata": {},
   "outputs": [],
   "source": [
    "#Ejercicio\n",
    "'''\n",
    "Encuentra y muestra el indice de la primera aparición de la palabra \"afectadas\"\n",
    "\n",
    "frase = 'La acción TSLA, AMD, NVDA han sido afectadas durante todo el \n",
    "perìodo de volatilidad de la pandemía. También salieron afectadas las \n",
    "acciones de los bancos'\n",
    "\n",
    "'''\n",
    "\n",
    "frase = 'La acción TSLA, AMD, NVDA han sido afectadas durante todo el perìodo de volatilidad de la pandemía. También salieron afectadas las acciones de los bancos'\n",
    "\n",
    "buscar_primera = frase.index(\"afectadas\")\n",
    "print(buscar_primera)\n",
    "buscar_ultima = frase.rindex(\"afectadas\")\n",
    "print(buscar_ultima)"
   ]
  },
  {
   "cell_type": "markdown",
   "id": "c6567424-7d6e-4fde-bf7b-e892a0765c37",
   "metadata": {},
   "source": [
    "## Métodos de strings"
   ]
  },
  {
   "cell_type": "markdown",
   "id": "78cfde01-5a94-478a-b7bc-27c545a54576",
   "metadata": {},
   "source": [
    "## upper(): cambiar a mayúsculas "
   ]
  },
  {
   "cell_type": "code",
   "execution_count": 36,
   "id": "f33c040d-1221-40b0-908f-24fdd61dfd40",
   "metadata": {},
   "outputs": [
    {
     "name": "stdout",
     "output_type": "stream",
     "text": [
      "A VECES ES MEJOR IR CORTOS SOBRE LOS ACTIVOS\n"
     ]
    }
   ],
   "source": [
    "texto = 'A veces es mejor ir cortos sobre los activos'\n",
    "resul = texto.upper() #Te convierte todo a mayúsculas\n",
    "print(resul)"
   ]
  },
  {
   "cell_type": "code",
   "execution_count": 38,
   "id": "2210e057-0e19-4105-8ae0-771a56aa5e11",
   "metadata": {},
   "outputs": [
    {
     "name": "stdout",
     "output_type": "stream",
     "text": [
      "E\n"
     ]
    }
   ],
   "source": [
    "resul = texto[3].upper() #Accedes a la posición 3 y la convierte a mayúscula\n",
    "print(resul)"
   ]
  },
  {
   "cell_type": "markdown",
   "id": "5c202042-b2c7-49c3-a5b7-fd546c304a94",
   "metadata": {},
   "source": [
    "## Lower"
   ]
  },
  {
   "cell_type": "code",
   "execution_count": 41,
   "id": "0aaf20ed-13f1-45d5-a683-8bd5130c3af3",
   "metadata": {},
   "outputs": [
    {
     "name": "stdout",
     "output_type": "stream",
     "text": [
      "a veces es mejor ir cortos sobre los activos\n"
     ]
    }
   ],
   "source": [
    "#lower() para minisculas\n",
    "texto = 'A veces Es mejor Ir cortos Sobre los activos'\n",
    "resul = texto.lower()\n",
    "print(resul)"
   ]
  },
  {
   "cell_type": "markdown",
   "id": "bdbcdc4a-c04d-4e74-94a9-19eb29dd2b86",
   "metadata": {},
   "source": [
    "## Split"
   ]
  },
  {
   "cell_type": "code",
   "execution_count": 44,
   "id": "a7f3495c-3d98-4f89-95cb-eea94b936330",
   "metadata": {},
   "outputs": [
    {
     "name": "stdout",
     "output_type": "stream",
     "text": [
      "['A', 'veces', 'Es', 'mejor', 'Ir', 'cortos', 'Sobre', 'los', 'activos']\n"
     ]
    }
   ],
   "source": [
    "#split() separar en partes por espacios\n",
    "texto = 'A veces Es mejor Ir cortos Sobre los activos'\n",
    "resul = texto.split() \n",
    "print(resul)"
   ]
  },
  {
   "cell_type": "code",
   "execution_count": 46,
   "id": "d748ac6a-c0ea-4d87-a4d3-d6b659a03cd6",
   "metadata": {},
   "outputs": [
    {
     "name": "stdout",
     "output_type": "stream",
     "text": [
      "['A v', 'c', 's Es m', 'jor Ir cortos Sobr', ' los activos']\n"
     ]
    }
   ],
   "source": [
    "resul = texto.split('e') #separa cada vez que encuentre una e\n",
    "print(resul)"
   ]
  },
  {
   "cell_type": "markdown",
   "id": "fae934e8-95c7-4c79-a81f-f83f84292780",
   "metadata": {},
   "source": [
    "## Join"
   ]
  },
  {
   "cell_type": "code",
   "execution_count": 49,
   "id": "4a9c5bd1-0bc8-4025-be98-97e8f9bebece",
   "metadata": {},
   "outputs": [],
   "source": [
    "#join: unir\n",
    "a = 'Invertir'\n",
    "b = 'en'\n",
    "c = 'acciones'\n",
    "d = 'es'\n",
    "e = 'el futuro'"
   ]
  },
  {
   "cell_type": "code",
   "execution_count": 51,
   "id": "89f088a5-31dd-4822-a6fc-b93cd6878448",
   "metadata": {},
   "outputs": [
    {
     "name": "stdout",
     "output_type": "stream",
     "text": [
      "Invertir en acciones es el futuro\n"
     ]
    }
   ],
   "source": [
    "oracion = ' '.join([a,b,c,d,e]) # Los une por medio de espacios\n",
    "print(oracion)"
   ]
  },
  {
   "cell_type": "code",
   "execution_count": 53,
   "id": "584e5d4b-48b7-4885-ade7-5c49533a5895",
   "metadata": {},
   "outputs": [
    {
     "name": "stdout",
     "output_type": "stream",
     "text": [
      "Invertir-en-acciones-es-el futuro\n"
     ]
    }
   ],
   "source": [
    "oracion = '-'.join([a,b,c,d,e])\n",
    "print(oracion)"
   ]
  },
  {
   "cell_type": "markdown",
   "id": "4aa4bb5a-829f-4954-a0db-5949a9b0df95",
   "metadata": {},
   "source": [
    "## Find() : encontrar en un sub string ; es igual al mètodo index()"
   ]
  },
  {
   "cell_type": "code",
   "execution_count": 56,
   "id": "dc29d245-ce23-47a6-83c9-62f1b61c7243",
   "metadata": {},
   "outputs": [],
   "source": [
    "a = 'Python en spyder'"
   ]
  },
  {
   "cell_type": "code",
   "execution_count": 58,
   "id": "83550e50-a5a8-4549-83d7-cbec8478a9c2",
   "metadata": {},
   "outputs": [
    {
     "name": "stdout",
     "output_type": "stream",
     "text": [
      "1\n"
     ]
    }
   ],
   "source": [
    "result = a.find('y') #No s regresa la posición en la que se encuentra la letra buscada\n",
    "print(result)"
   ]
  },
  {
   "cell_type": "markdown",
   "id": "08a38aab-19c8-4cf4-b57f-7677b8a98e7a",
   "metadata": {},
   "source": [
    "## replace() : reemplazar un subtring"
   ]
  },
  {
   "cell_type": "code",
   "execution_count": 61,
   "id": "9a75edb1-8ad7-4f55-a4a6-51925d405793",
   "metadata": {},
   "outputs": [
    {
     "name": "stdout",
     "output_type": "stream",
     "text": [
      "A veces Es mejor Ir largos Sobre los activos\n"
     ]
    }
   ],
   "source": [
    "texto = 'A veces Es mejor Ir cortos Sobre los activos'\n",
    "resul = texto.replace('cortos', 'largos') #busca dentro de la cadena y donde aparezca string1, se reemplaza por string2\n",
    "print(resul)"
   ]
  },
  {
   "cell_type": "code",
   "execution_count": 63,
   "id": "bb15b1e0-b444-46b8-ad1f-e29f48cbeb59",
   "metadata": {},
   "outputs": [
    {
     "name": "stdout",
     "output_type": "stream",
     "text": [
      "A vacas Es major Ir cortos Sobra los activos\n"
     ]
    }
   ],
   "source": [
    "resul = texto.replace('e', 'a') #podemos reemplazar letras \n",
    "print(resul)"
   ]
  },
  {
   "cell_type": "code",
   "execution_count": null,
   "id": "2154bcd1-c64e-4bb8-8994-6f1da39c9b96",
   "metadata": {},
   "outputs": [],
   "source": [
    "#Ejercicio\n",
    "'''\n",
    "Une la siguiente lista en un string separando cada elemento con un espacio y \n",
    "otro separdo por #.\n",
    "Utiliza el mètodo apropiado de listas/strings, y muestra en pantalla el \n",
    "resultado.\n",
    "\n",
    "lista = ['hay', 'que', 'aprender a', 'programar']\n",
    "\n",
    "'''"
   ]
  },
  {
   "cell_type": "code",
   "execution_count": 65,
   "id": "baea1777-dc71-4700-bcf8-2ae16321cc44",
   "metadata": {},
   "outputs": [
    {
     "name": "stdout",
     "output_type": "stream",
     "text": [
      "hay que aprender a programar\n"
     ]
    }
   ],
   "source": [
    "a = 'hay'\n",
    "b = 'que'\n",
    "c = 'aprender a'\n",
    "d = 'programar'\n",
    "\n",
    "ejercicio1 = ' '.join([a,b,c,d])\n",
    "print(ejercicio1)"
   ]
  },
  {
   "cell_type": "code",
   "execution_count": 67,
   "id": "53612979-d782-44e7-98d4-4ce02b444778",
   "metadata": {},
   "outputs": [
    {
     "name": "stdout",
     "output_type": "stream",
     "text": [
      "hay#que#aprender a#programar\n"
     ]
    }
   ],
   "source": [
    "ejercicio2 = '#'.join([a,b,c,d])\n",
    "print(ejercicio2)"
   ]
  },
  {
   "cell_type": "code",
   "execution_count": 69,
   "id": "489f7caf-296e-4e6a-bc5b-3134287c2f20",
   "metadata": {},
   "outputs": [
    {
     "name": "stdout",
     "output_type": "stream",
     "text": [
      "hay que aprender a programar\n",
      "hay*que*aprender a*programar\n"
     ]
    }
   ],
   "source": [
    "lista = ['hay', 'que', 'aprender a', 'programar']\n",
    "espacio=' '.join(lista)\n",
    "asteriscos='*'.join(lista)\n",
    "print(espacio)\n",
    "print(asteriscos)"
   ]
  },
  {
   "cell_type": "code",
   "execution_count": null,
   "id": "59dc1d87-fb19-4a80-8dab-a2769fc49f65",
   "metadata": {},
   "outputs": [],
   "source": [
    "#Ejercicio\n",
    "'''\n",
    "Cabiar:\n",
    "    'dificil' --> 'facil'\n",
    "    'mala' ---> 'buena'\n",
    "    \n",
    "texto = 'A veces es mala idea invertir, pero dificil es quedarse sin hacerlo'\n",
    "'''"
   ]
  },
  {
   "cell_type": "code",
   "execution_count": 71,
   "id": "4d3e0d9f-4ff6-4d34-9925-d4d95f4e69ad",
   "metadata": {},
   "outputs": [
    {
     "name": "stdout",
     "output_type": "stream",
     "text": [
      "A veces es buena idea invertir, pero facil es quedarse sin hacerlo\n"
     ]
    }
   ],
   "source": [
    "#---1\n",
    "texto = 'A veces es mala idea invertir, pero dificil es quedarse sin hacerlo'\n",
    "resul=texto.replace('dificil','facil')\n",
    "resul2=resul.replace('mala','buena')\n",
    "print(resul2)"
   ]
  },
  {
   "cell_type": "code",
   "execution_count": 73,
   "id": "85a3a307-6713-4db2-b338-ff289759dff9",
   "metadata": {},
   "outputs": [
    {
     "name": "stdout",
     "output_type": "stream",
     "text": [
      "A veces es buena idea invertir, pero facil es quedarse sin hacerlo\n"
     ]
    }
   ],
   "source": [
    "#----2\n",
    "texto = 'A veces es mala idea invertir, pero dificil es quedarse sin hacerlo'\n",
    "\n",
    "print(texto.replace(\"dificil\",\"facil\").replace(\"mala\", \"buena\"))"
   ]
  },
  {
   "cell_type": "code",
   "execution_count": null,
   "id": "f1d75305-e6c1-4775-a2d0-08e13ace7632",
   "metadata": {},
   "outputs": [],
   "source": []
  }
 ],
 "metadata": {
  "kernelspec": {
   "display_name": "Python 3 (ipykernel)",
   "language": "python",
   "name": "python3"
  },
  "language_info": {
   "codemirror_mode": {
    "name": "ipython",
    "version": 3
   },
   "file_extension": ".py",
   "mimetype": "text/x-python",
   "name": "python",
   "nbconvert_exporter": "python",
   "pygments_lexer": "ipython3",
   "version": "3.11.7"
  }
 },
 "nbformat": 4,
 "nbformat_minor": 5
}
