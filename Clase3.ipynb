{
 "cells": [
  {
   "cell_type": "markdown",
   "id": "f64b96ed-6ec5-4cac-a149-7e4022f7abec",
   "metadata": {},
   "source": [
    "## Propiedades de los strings"
   ]
  },
  {
   "cell_type": "markdown",
   "id": "9da3da6c-5cc8-4dc7-beff-394b47e89934",
   "metadata": {},
   "source": [
    "- Los strings son inmutables \n",
    "- Pueden concatenarse"
   ]
  },
  {
   "cell_type": "code",
   "execution_count": 28,
   "id": "cfcc4140-eaf0-4b01-886d-89561888b0d7",
   "metadata": {},
   "outputs": [],
   "source": [
    "nombre = 'Mex'"
   ]
  },
  {
   "cell_type": "code",
   "execution_count": 29,
   "id": "54790384-312d-4c9f-b0b2-18e8c7ded620",
   "metadata": {},
   "outputs": [
    {
     "ename": "TypeError",
     "evalue": "'str' object does not support item assignment",
     "output_type": "error",
     "traceback": [
      "\u001b[1;31m---------------------------------------------------------------------------\u001b[0m",
      "\u001b[1;31mTypeError\u001b[0m                                 Traceback (most recent call last)",
      "\u001b[1;32m~\\AppData\\Local\\Temp\\ipykernel_9732\\737106467.py\u001b[0m in \u001b[0;36m<module>\u001b[1;34m\u001b[0m\n\u001b[1;32m----> 1\u001b[1;33m \u001b[0mnombre\u001b[0m\u001b[1;33m[\u001b[0m\u001b[1;36m1\u001b[0m\u001b[1;33m]\u001b[0m \u001b[1;33m=\u001b[0m \u001b[1;34m'a'\u001b[0m\u001b[1;33m\u001b[0m\u001b[1;33m\u001b[0m\u001b[0m\n\u001b[0m",
      "\u001b[1;31mTypeError\u001b[0m: 'str' object does not support item assignment"
     ]
    }
   ],
   "source": [
    "nombre[1] = 'a'"
   ]
  },
  {
   "cell_type": "markdown",
   "id": "4ea8cd1a-681b-473d-b63c-48086d199bf7",
   "metadata": {},
   "source": [
    "Observemos que no podemos modificar el string por ser inmutables"
   ]
  },
  {
   "cell_type": "code",
   "execution_count": 30,
   "id": "c92f3542-a4f6-4605-8709-caa0ac769f51",
   "metadata": {},
   "outputs": [
    {
     "name": "stdout",
     "output_type": "stream",
     "text": [
      "México\n"
     ]
    }
   ],
   "source": [
    "n1 = 'Méx'\n",
    "n2 = 'ico'\n",
    "print(n1+n2)"
   ]
  },
  {
   "cell_type": "markdown",
   "id": "eab8520a-d51d-4d5b-8b3d-4518c2cbb120",
   "metadata": {},
   "source": [
    "Podemos concatenar por sus propiedades"
   ]
  },
  {
   "cell_type": "code",
   "execution_count": 32,
   "id": "06e33735-0a03-4f5d-a46a-1f8fb6dc538c",
   "metadata": {},
   "outputs": [
    {
     "name": "stdout",
     "output_type": "stream",
     "text": [
      "MéxMéxMéxMéxMéx\n"
     ]
    }
   ],
   "source": [
    "print(n1*5)"
   ]
  },
  {
   "cell_type": "code",
   "execution_count": 33,
   "id": "a04b42ca-c311-44ff-b959-f41a247702a1",
   "metadata": {},
   "outputs": [
    {
     "name": "stdout",
     "output_type": "stream",
     "text": [
      "False\n",
      "True\n",
      "67\n"
     ]
    }
   ],
   "source": [
    "oracion = 'A veces es mala idea invertir, pero dificil es quedarse sin hacerlo'\n",
    "\n",
    "print('accion' in oracion)\n",
    "print('accion' not in oracion)\n",
    "\n",
    "print(len(oracion)) #Largo de la cadena"
   ]
  },
  {
   "cell_type": "markdown",
   "id": "c24151c8-fd4a-4179-ae80-7b8cd12e5e00",
   "metadata": {},
   "source": [
    "## Listas"
   ]
  },
  {
   "cell_type": "markdown",
   "id": "8215ed65-46ca-484a-b30c-0cd338276aa5",
   "metadata": {},
   "source": [
    "- Secuencias ordenadas de objetos de cualquier tipo de dato\n",
    "- Espo sible anidad listas\n",
    "- Se pueden indexar \n",
    "- Son mutables"
   ]
  },
  {
   "cell_type": "code",
   "execution_count": 34,
   "id": "00a5e27c-891f-46a9-af0e-0d09c76c410d",
   "metadata": {},
   "outputs": [
    {
     "data": {
      "text/plain": [
       "list"
      ]
     },
     "execution_count": 34,
     "metadata": {},
     "output_type": "execute_result"
    }
   ],
   "source": [
    "lista = ['a','b','c']\n",
    "type(lista)"
   ]
  },
  {
   "cell_type": "code",
   "execution_count": 35,
   "id": "fe84ba74-cbf6-42a9-9968-bbf148478a3a",
   "metadata": {},
   "outputs": [
    {
     "data": {
      "text/plain": [
       "list"
      ]
     },
     "execution_count": 35,
     "metadata": {},
     "output_type": "execute_result"
    }
   ],
   "source": [
    "lista = ['Hey', 32, 9.3]\n",
    "type(lista)"
   ]
  },
  {
   "cell_type": "code",
   "execution_count": 36,
   "id": "a310c635-5d18-43e8-85bb-a4bd5520b92f",
   "metadata": {},
   "outputs": [
    {
     "name": "stdout",
     "output_type": "stream",
     "text": [
      "Hey\n"
     ]
    }
   ],
   "source": [
    "resul = lista[0]\n",
    "print(resul)"
   ]
  },
  {
   "cell_type": "code",
   "execution_count": 37,
   "id": "77bf0989-15d6-4d1e-a314-80b1ad649350",
   "metadata": {},
   "outputs": [
    {
     "name": "stdout",
     "output_type": "stream",
     "text": [
      "['Hey', 32, 9.3]\n"
     ]
    }
   ],
   "source": [
    "resul = lista[0:]\n",
    "print(resul)"
   ]
  },
  {
   "cell_type": "code",
   "execution_count": 38,
   "id": "e55bb247-0479-4e06-80f6-83eb74fbda8b",
   "metadata": {},
   "outputs": [
    {
     "name": "stdout",
     "output_type": "stream",
     "text": [
      "['Hey', 32, 9.3, 'd', 'e', 'f']\n"
     ]
    }
   ],
   "source": [
    "lista2 = ['d','e','f']\n",
    "print(lista+lista2)"
   ]
  },
  {
   "cell_type": "code",
   "execution_count": 39,
   "id": "8bf6f098-4b74-4f02-bb7c-d5e230da8d5f",
   "metadata": {},
   "outputs": [
    {
     "name": "stdout",
     "output_type": "stream",
     "text": [
      "['Hey', 32, 9.3, 'd', 'e', 'f']\n"
     ]
    }
   ],
   "source": [
    "lista3 = lista+lista2\n",
    "print(lista3)"
   ]
  },
  {
   "cell_type": "code",
   "execution_count": 40,
   "id": "37c840bf-f298-4c91-b0a1-c186f483b0f8",
   "metadata": {},
   "outputs": [
    {
     "name": "stdout",
     "output_type": "stream",
     "text": [
      "[89, 32, 9.3, 'd', 'e', 'f']\n"
     ]
    }
   ],
   "source": [
    "lista3[0] = 89\n",
    "print(lista3)"
   ]
  },
  {
   "cell_type": "markdown",
   "id": "5ef36509-5293-4180-83f4-7df15d0337bc",
   "metadata": {},
   "source": [
    "## Agregar"
   ]
  },
  {
   "cell_type": "code",
   "execution_count": 41,
   "id": "3df1141d-90e2-4b32-8fe6-1eaf972ef8ff",
   "metadata": {},
   "outputs": [],
   "source": [
    "#Agregar \n",
    "lista3.append(85)"
   ]
  },
  {
   "cell_type": "code",
   "execution_count": 42,
   "id": "bd59388d-b7be-462c-9479-b659daec7a67",
   "metadata": {},
   "outputs": [
    {
     "data": {
      "text/plain": [
       "[89, 32, 9.3, 'd', 'e', 'f', 85]"
      ]
     },
     "execution_count": 42,
     "metadata": {},
     "output_type": "execute_result"
    }
   ],
   "source": [
    "lista3"
   ]
  },
  {
   "cell_type": "code",
   "execution_count": 43,
   "id": "b97830f5-2d2a-4a47-8c11-ec07bc1cb7fb",
   "metadata": {},
   "outputs": [
    {
     "data": {
      "text/plain": [
       "[89, 32, 9.3, 'd', 'e', 'f']"
      ]
     },
     "execution_count": 43,
     "metadata": {},
     "output_type": "execute_result"
    }
   ],
   "source": [
    "#Eliminar\n",
    "lista3.pop() #El último en entrar es el primero en salir\n",
    "lista3"
   ]
  },
  {
   "cell_type": "code",
   "execution_count": 44,
   "id": "e8426de6-5ca2-4893-9600-c126b8cdec41",
   "metadata": {},
   "outputs": [
    {
     "data": {
      "text/plain": [
       "[89, 32, 'd', 'e', 'f']"
      ]
     },
     "execution_count": 44,
     "metadata": {},
     "output_type": "execute_result"
    }
   ],
   "source": [
    "lista3.pop(2) #eliminar por una posición\n",
    "lista3"
   ]
  },
  {
   "cell_type": "markdown",
   "id": "a6ba5cf1-34b3-4bcd-8d82-6266db776c12",
   "metadata": {},
   "source": [
    "## Ordenamiento"
   ]
  },
  {
   "cell_type": "code",
   "execution_count": 45,
   "id": "c4428319-0ca2-4817-bcd1-69f701b506d5",
   "metadata": {},
   "outputs": [],
   "source": [
    "#Ordenar listas\n",
    "lista = ['g','a','s','z','c','7']"
   ]
  },
  {
   "cell_type": "code",
   "execution_count": 46,
   "id": "57e5367a-2fd5-4cf5-82cb-f5ec17676291",
   "metadata": {},
   "outputs": [
    {
     "name": "stdout",
     "output_type": "stream",
     "text": [
      "['7', 'a', 'c', 'g', 's', 'z']\n"
     ]
    }
   ],
   "source": [
    "lista.sort()\n",
    "print(lista)"
   ]
  },
  {
   "cell_type": "code",
   "execution_count": 47,
   "id": "092e95c5-7029-4642-b83c-7c4d497455e6",
   "metadata": {},
   "outputs": [
    {
     "name": "stdout",
     "output_type": "stream",
     "text": [
      "[2, 3, 4, 6, 7, 35, 98]\n"
     ]
    }
   ],
   "source": [
    "lista = [2,3,6,98,4,35,7]\n",
    "lista.sort()\n",
    "print(lista)"
   ]
  },
  {
   "cell_type": "code",
   "execution_count": 49,
   "id": "a280a719-4eb4-48ac-b42f-ebea690f8b08",
   "metadata": {},
   "outputs": [
    {
     "name": "stdout",
     "output_type": "stream",
     "text": [
      "[98, 35, 7, 6, 4, 3, 2]\n"
     ]
    }
   ],
   "source": [
    "#Orden de forma inversa\n",
    "lista.reverse()\n",
    "print(lista)"
   ]
  },
  {
   "cell_type": "markdown",
   "id": "7dd1f6a4-b789-4f1d-9184-6c88ab2daa83",
   "metadata": {},
   "source": [
    "## Diccionarios"
   ]
  },
  {
   "cell_type": "markdown",
   "id": "a0db6731-2cdc-4ca2-a2c7-559a12584201",
   "metadata": {},
   "source": [
    "- Son colecciones de pares con una llave y un valor, no pueden repetirse las\n",
    "- claves\n",
    "- No tienen un orden en especifico \n",
    "- No se puede utilizar el mètodo sort ni reverse\n",
    "- Se usan para guardar alguna especie de relacion"
   ]
  },
  {
   "cell_type": "code",
   "execution_count": 51,
   "id": "59aca0da-5055-45e0-816b-4d03ef674717",
   "metadata": {},
   "outputs": [
    {
     "name": "stdout",
     "output_type": "stream",
     "text": [
      "{'c1': 'valor1', 'c2': 'valor2'}\n",
      "<class 'dict'>\n"
     ]
    }
   ],
   "source": [
    "diccionario = {'c1':'valor1','c2':'valor2'}\n",
    "print(diccionario)\n",
    "print(type(diccionario))"
   ]
  },
  {
   "cell_type": "code",
   "execution_count": 52,
   "id": "a9d59ce5-0a0a-4dff-a2d3-669f225f8211",
   "metadata": {},
   "outputs": [
    {
     "ename": "KeyError",
     "evalue": "1",
     "output_type": "error",
     "traceback": [
      "\u001b[1;31m---------------------------------------------------------------------------\u001b[0m",
      "\u001b[1;31mKeyError\u001b[0m                                  Traceback (most recent call last)",
      "\u001b[1;32m~\\AppData\\Local\\Temp\\ipykernel_9732\\2224398475.py\u001b[0m in \u001b[0;36m<module>\u001b[1;34m\u001b[0m\n\u001b[1;32m----> 1\u001b[1;33m \u001b[0mdiccionario\u001b[0m\u001b[1;33m[\u001b[0m\u001b[1;36m1\u001b[0m\u001b[1;33m]\u001b[0m\u001b[1;33m\u001b[0m\u001b[1;33m\u001b[0m\u001b[0m\n\u001b[0m",
      "\u001b[1;31mKeyError\u001b[0m: 1"
     ]
    }
   ],
   "source": [
    "diccionario[1] #No tienen orden"
   ]
  },
  {
   "cell_type": "code",
   "execution_count": 54,
   "id": "301eab7d-6844-4d5c-a71e-8cc9edfb5852",
   "metadata": {},
   "outputs": [
    {
     "name": "stdout",
     "output_type": "stream",
     "text": [
      "valor1\n"
     ]
    }
   ],
   "source": [
    "valor1 = diccionario['c1']\n",
    "print(valor1)"
   ]
  },
  {
   "cell_type": "code",
   "execution_count": 55,
   "id": "8e504221-4f70-405b-925a-46bed4e89356",
   "metadata": {},
   "outputs": [
    {
     "name": "stdout",
     "output_type": "stream",
     "text": [
      "77\n"
     ]
    }
   ],
   "source": [
    "accion = {'nombre':'AMD', 'precio_entrada':75, 'precio_cierre':77,'volumen': 782341}\n",
    "consulta = (accion['precio_cierre'])\n",
    "print(consulta)"
   ]
  },
  {
   "cell_type": "code",
   "execution_count": 56,
   "id": "a5223aab-23df-4a45-8ab7-e162c64969c6",
   "metadata": {},
   "outputs": [
    {
     "name": "stdout",
     "output_type": "stream",
     "text": [
      "[10, 20, 30]\n",
      "30\n",
      "100\n"
     ]
    }
   ],
   "source": [
    "dic = {'c1':55, 'c2':[10,20,30], 'c3':{'s1':100,'s2':69}}\n",
    "print(dic['c2'])\n",
    "print(dic['c2'][2])\n",
    "print(dic['c3']['s1'])"
   ]
  },
  {
   "cell_type": "code",
   "execution_count": 57,
   "id": "56015742-e19a-419b-b11c-ce773220ee94",
   "metadata": {},
   "outputs": [
    {
     "name": "stdout",
     "output_type": "stream",
     "text": [
      "amd\n"
     ]
    }
   ],
   "source": [
    "accion = {'nombre':'AMD', 'precio_entrada':75, 'precio_cierre':77,'volumen': 782341}\n",
    "print(accion['nombre'][:].lower())"
   ]
  },
  {
   "cell_type": "code",
   "execution_count": 58,
   "id": "eb9b02e6-f785-4bf2-be5c-7fab06d5d4e2",
   "metadata": {},
   "outputs": [
    {
     "name": "stdout",
     "output_type": "stream",
     "text": [
      "dict_keys(['c1', 'c2', 'c3'])\n",
      "dict_values([55, [10, 20, 30], {'s1': 100, 's2': 69}])\n",
      "dict_items([('c1', 55), ('c2', [10, 20, 30]), ('c3', {'s1': 100, 's2': 69})])\n"
     ]
    }
   ],
   "source": [
    "print(dic.keys())\n",
    "print(dic.values())\n",
    "print(dic.items())"
   ]
  },
  {
   "cell_type": "markdown",
   "id": "b1b3c615-e6c7-43c1-8ad9-18e65a418551",
   "metadata": {},
   "source": [
    "## Agregar elementos"
   ]
  },
  {
   "cell_type": "code",
   "execution_count": 60,
   "id": "b0d1a8f3-0339-4ca0-8d13-b74abaa4d343",
   "metadata": {},
   "outputs": [
    {
     "name": "stdout",
     "output_type": "stream",
     "text": [
      "{1: 'a', 2: 'b'}\n"
     ]
    }
   ],
   "source": [
    "#Agregar elementos \n",
    "dic = {1:'a',2:'b'}\n",
    "print(dic)"
   ]
  },
  {
   "cell_type": "code",
   "execution_count": 61,
   "id": "61ee6b46-76ba-4a5a-b2f1-f82f428cddeb",
   "metadata": {},
   "outputs": [
    {
     "name": "stdout",
     "output_type": "stream",
     "text": [
      "{1: 'a', 2: 'b', '3': 'c'}\n"
     ]
    }
   ],
   "source": [
    "dic['3'] = 'c'\n",
    "print(dic)"
   ]
  },
  {
   "cell_type": "code",
   "execution_count": 62,
   "id": "7a1a0cb5-6353-40e8-aa4e-1d8c554673bd",
   "metadata": {},
   "outputs": [
    {
     "name": "stdout",
     "output_type": "stream",
     "text": [
      "{1: 'a', 2: 'B', '3': 'c'}\n"
     ]
    }
   ],
   "source": [
    "dic[2] = 'B'\n",
    "print(dic)"
   ]
  },
  {
   "cell_type": "markdown",
   "id": "aeee4999-1183-4c69-ab27-bb91d4419d12",
   "metadata": {},
   "source": [
    "## Tuplas"
   ]
  },
  {
   "cell_type": "markdown",
   "id": "65bedd83-1bd3-4721-b9cd-0c7454589f44",
   "metadata": {},
   "source": [
    "- Son colecciones de elemento iguales a las listas\n",
    "- Son inmutables\n",
    "- Ocupan menos espacio en memoria \n",
    "- Se usan cuando ya no se quiere altenar nada"
   ]
  },
  {
   "cell_type": "code",
   "execution_count": 64,
   "id": "576f1faa-b168-4c33-aa4e-68fea840e280",
   "metadata": {},
   "outputs": [],
   "source": [
    "t = (1,2,3)"
   ]
  },
  {
   "cell_type": "code",
   "execution_count": 65,
   "id": "dd808d50-3e0f-4772-9ae1-c9a05ec94f62",
   "metadata": {},
   "outputs": [],
   "source": [
    "t = 1,2,3"
   ]
  },
  {
   "cell_type": "code",
   "execution_count": 66,
   "id": "8f8e425b-111e-4f0a-adaa-5907d7a53768",
   "metadata": {},
   "outputs": [],
   "source": [
    "t = (1,2,'uno')"
   ]
  },
  {
   "cell_type": "code",
   "execution_count": 67,
   "id": "a0472c48-fae9-4b90-b892-edd9f2443ee0",
   "metadata": {},
   "outputs": [
    {
     "name": "stdout",
     "output_type": "stream",
     "text": [
      "<class 'tuple'>\n"
     ]
    }
   ],
   "source": [
    "print(type(t))"
   ]
  },
  {
   "cell_type": "code",
   "execution_count": 68,
   "id": "1c12dc12-5e51-4dd3-9b18-9598cd75a677",
   "metadata": {},
   "outputs": [
    {
     "name": "stdout",
     "output_type": "stream",
     "text": [
      "2\n",
      "uno\n"
     ]
    }
   ],
   "source": [
    "print(t[1])\n",
    "print(t[-1])"
   ]
  },
  {
   "cell_type": "code",
   "execution_count": 69,
   "id": "dc18b660-f49f-4482-a63c-816e8679bd8a",
   "metadata": {},
   "outputs": [
    {
     "ename": "TypeError",
     "evalue": "'tuple' object does not support item assignment",
     "output_type": "error",
     "traceback": [
      "\u001b[1;31m---------------------------------------------------------------------------\u001b[0m",
      "\u001b[1;31mTypeError\u001b[0m                                 Traceback (most recent call last)",
      "\u001b[1;32m~\\AppData\\Local\\Temp\\ipykernel_9732\\2464372536.py\u001b[0m in \u001b[0;36m<module>\u001b[1;34m\u001b[0m\n\u001b[1;32m----> 1\u001b[1;33m \u001b[0mt\u001b[0m\u001b[1;33m[\u001b[0m\u001b[1;36m0\u001b[0m\u001b[1;33m]\u001b[0m \u001b[1;33m=\u001b[0m \u001b[1;36m4\u001b[0m \u001b[1;31m#\u001b[0m\u001b[1;33m\u001b[0m\u001b[1;33m\u001b[0m\u001b[0m\n\u001b[0m",
      "\u001b[1;31mTypeError\u001b[0m: 'tuple' object does not support item assignment"
     ]
    }
   ],
   "source": [
    "t[0] = 4 #Inmutable"
   ]
  },
  {
   "cell_type": "code",
   "execution_count": 70,
   "id": "9cda4aed-0bf5-415e-8ffa-5e67d85167e4",
   "metadata": {},
   "outputs": [
    {
     "name": "stdout",
     "output_type": "stream",
     "text": [
      "5\n"
     ]
    }
   ],
   "source": [
    "t = (1,2,3,(4,5),6,7)\n",
    "print(t[3][1])"
   ]
  },
  {
   "cell_type": "code",
   "execution_count": 71,
   "id": "38252d2b-b8e2-4bb1-9b85-704264163683",
   "metadata": {},
   "outputs": [],
   "source": [
    "#Asiganación\n",
    "t = (1,2,3)\n",
    "x,y,z = t #desempaquetar tupla"
   ]
  },
  {
   "cell_type": "code",
   "execution_count": 72,
   "id": "9d168e1a-86d3-42d7-9a70-dc7b8ce1ea31",
   "metadata": {},
   "outputs": [
    {
     "name": "stdout",
     "output_type": "stream",
     "text": [
      "1 2 3\n",
      "3\n"
     ]
    }
   ],
   "source": [
    "print(x,y,z)\n",
    "print(z)"
   ]
  },
  {
   "cell_type": "code",
   "execution_count": 73,
   "id": "32636939-254d-4d86-b925-cec8a65063a7",
   "metadata": {},
   "outputs": [
    {
     "name": "stdout",
     "output_type": "stream",
     "text": [
      "7\n",
      "2\n"
     ]
    }
   ],
   "source": [
    "#Contar la cantidad de apariciones de un valor\n",
    "t = (1,2,3,4,4,32,6)\n",
    "print(len(t))\n",
    "print(t.count(4))"
   ]
  },
  {
   "cell_type": "code",
   "execution_count": 74,
   "id": "f3f5eed4-7d5d-42d7-b613-6ad4f07b6817",
   "metadata": {},
   "outputs": [
    {
     "name": "stdout",
     "output_type": "stream",
     "text": [
      "3\n"
     ]
    }
   ],
   "source": [
    "#Consulta para ver el índice en el que se encuentra lo buscado\n",
    "print(t.index(4))"
   ]
  },
  {
   "cell_type": "markdown",
   "id": "04ec0315-6007-469e-9bc6-78d31e5a1fe5",
   "metadata": {},
   "source": [
    "## Sets"
   ]
  },
  {
   "cell_type": "markdown",
   "id": "f9405d10-6cae-4356-86a8-3c970a7d18af",
   "metadata": {},
   "source": [
    "- Son colecciones únicas\n",
    "- No están ordenados\n",
    "- Son inmutables\n",
    "- No puedes incluir listas y diccionarios "
   ]
  },
  {
   "cell_type": "code",
   "execution_count": 76,
   "id": "c6331ed9-d509-4b5b-bea8-676d9db41e91",
   "metadata": {},
   "outputs": [],
   "source": [
    "var1 = set([1,2,3,4])"
   ]
  },
  {
   "cell_type": "code",
   "execution_count": 77,
   "id": "c7071e83-f677-4973-b710-558300111458",
   "metadata": {},
   "outputs": [],
   "source": [
    "set1 = set((1,2,3,4))"
   ]
  },
  {
   "cell_type": "code",
   "execution_count": 78,
   "id": "0378e40d-03ee-411b-9f2f-7c4bdd4918fb",
   "metadata": {},
   "outputs": [],
   "source": [
    "set1 =set([1,2,3,4,4])"
   ]
  },
  {
   "cell_type": "code",
   "execution_count": 79,
   "id": "fa910ded-c669-45d6-97bc-f81cafeeec8d",
   "metadata": {},
   "outputs": [
    {
     "name": "stdout",
     "output_type": "stream",
     "text": [
      "{1, 2, 3, 4}\n"
     ]
    }
   ],
   "source": [
    "print(set1)"
   ]
  },
  {
   "cell_type": "code",
   "execution_count": 80,
   "id": "99227ca7-8ecd-43ef-98ff-a0644c3c5313",
   "metadata": {},
   "outputs": [
    {
     "name": "stdout",
     "output_type": "stream",
     "text": [
      "{1, 2, 3, 4}\n"
     ]
    }
   ],
   "source": [
    "set1 = {1,2,3,4,4,4,4,4,4,4}\n",
    "print(set1)"
   ]
  },
  {
   "cell_type": "code",
   "execution_count": 81,
   "id": "de94bfdd-b86d-4ec6-a860-05a09dfc2134",
   "metadata": {},
   "outputs": [
    {
     "name": "stdout",
     "output_type": "stream",
     "text": [
      "<class 'set'>\n"
     ]
    }
   ],
   "source": [
    "print(type(set1))"
   ]
  },
  {
   "cell_type": "code",
   "execution_count": 82,
   "id": "032442f8-7b5d-4183-8b29-3d5af43149cd",
   "metadata": {},
   "outputs": [
    {
     "ename": "TypeError",
     "evalue": "'set' object does not support indexing",
     "output_type": "error",
     "traceback": [
      "\u001b[1;31m---------------------------------------------------------------------------\u001b[0m",
      "\u001b[1;31mTypeError\u001b[0m                                 Traceback (most recent call last)",
      "\u001b[1;32m~\\AppData\\Local\\Temp\\ipykernel_9732\\3341616979.py\u001b[0m in \u001b[0;36m<module>\u001b[1;34m\u001b[0m\n\u001b[1;32m----> 1\u001b[1;33m \u001b[0mprint\u001b[0m\u001b[1;33m(\u001b[0m\u001b[0mset1\u001b[0m\u001b[1;33m[\u001b[0m\u001b[1;36m0\u001b[0m\u001b[1;33m]\u001b[0m\u001b[1;33m)\u001b[0m\u001b[1;33m\u001b[0m\u001b[1;33m\u001b[0m\u001b[0m\n\u001b[0m",
      "\u001b[1;31mTypeError\u001b[0m: 'set' object does not support indexing"
     ]
    }
   ],
   "source": [
    "print(set1[0]) #Sin orden"
   ]
  },
  {
   "cell_type": "code",
   "execution_count": 84,
   "id": "79ff0d38-88d4-4856-b899-463e752a861e",
   "metadata": {},
   "outputs": [
    {
     "ename": "TypeError",
     "evalue": "'set' object does not support item assignment",
     "output_type": "error",
     "traceback": [
      "\u001b[1;31m---------------------------------------------------------------------------\u001b[0m",
      "\u001b[1;31mTypeError\u001b[0m                                 Traceback (most recent call last)",
      "\u001b[1;32m~\\AppData\\Local\\Temp\\ipykernel_9732\\3872440637.py\u001b[0m in \u001b[0;36m<module>\u001b[1;34m\u001b[0m\n\u001b[1;32m----> 1\u001b[1;33m \u001b[0mset1\u001b[0m\u001b[1;33m[\u001b[0m\u001b[1;36m0\u001b[0m\u001b[1;33m]\u001b[0m \u001b[1;33m=\u001b[0m \u001b[1;36m2\u001b[0m \u001b[1;31m#inmutables\u001b[0m\u001b[1;33m\u001b[0m\u001b[1;33m\u001b[0m\u001b[0m\n\u001b[0m",
      "\u001b[1;31mTypeError\u001b[0m: 'set' object does not support item assignment"
     ]
    }
   ],
   "source": [
    "set1[0] = 2 #inmutables"
   ]
  },
  {
   "cell_type": "code",
   "execution_count": 85,
   "id": "aa25f480-c631-45dd-9b1c-64d8e8e1c719",
   "metadata": {},
   "outputs": [
    {
     "ename": "TypeError",
     "evalue": "unhashable type: 'list'",
     "output_type": "error",
     "traceback": [
      "\u001b[1;31m---------------------------------------------------------------------------\u001b[0m",
      "\u001b[1;31mTypeError\u001b[0m                                 Traceback (most recent call last)",
      "\u001b[1;32m~\\AppData\\Local\\Temp\\ipykernel_9732\\3061122978.py\u001b[0m in \u001b[0;36m<module>\u001b[1;34m\u001b[0m\n\u001b[1;32m----> 1\u001b[1;33m \u001b[0mset1\u001b[0m \u001b[1;33m=\u001b[0m \u001b[0mset\u001b[0m\u001b[1;33m(\u001b[0m\u001b[1;33m(\u001b[0m\u001b[1;36m1\u001b[0m\u001b[1;33m,\u001b[0m\u001b[1;36m2\u001b[0m\u001b[1;33m,\u001b[0m\u001b[1;36m3\u001b[0m\u001b[1;33m,\u001b[0m\u001b[1;33m[\u001b[0m\u001b[1;36m1\u001b[0m\u001b[1;33m,\u001b[0m\u001b[1;36m2\u001b[0m\u001b[1;33m]\u001b[0m\u001b[1;33m)\u001b[0m\u001b[1;33m)\u001b[0m\u001b[1;33m\u001b[0m\u001b[1;33m\u001b[0m\u001b[0m\n\u001b[0m",
      "\u001b[1;31mTypeError\u001b[0m: unhashable type: 'list'"
     ]
    }
   ],
   "source": [
    "set1 = set((1,2,3,[1,2])) # No puede incluir listas"
   ]
  },
  {
   "cell_type": "code",
   "execution_count": 86,
   "id": "c6f9a1e7-e21e-4a8e-8767-682f36c42cfe",
   "metadata": {},
   "outputs": [
    {
     "name": "stdout",
     "output_type": "stream",
     "text": [
      "{(1, 2), 1, 2, 3}\n"
     ]
    }
   ],
   "source": [
    "#sets con tuplas\n",
    "set1 = set((1,2,3,(1,2)))\n",
    "print(set1)"
   ]
  },
  {
   "cell_type": "code",
   "execution_count": 87,
   "id": "bd932f01-b360-48a9-ace6-0c31e2d25d0b",
   "metadata": {},
   "outputs": [
    {
     "name": "stdout",
     "output_type": "stream",
     "text": [
      "True\n"
     ]
    }
   ],
   "source": [
    "print(2 in set1)"
   ]
  },
  {
   "cell_type": "code",
   "execution_count": 88,
   "id": "5558581c-acbb-4762-b9ef-eb324a9b643f",
   "metadata": {},
   "outputs": [],
   "source": [
    "s1 = {1,2,3}\n",
    "s2 = {2,3,4,5}\n",
    "s3 = s1.union(s2)"
   ]
  },
  {
   "cell_type": "code",
   "execution_count": 89,
   "id": "216d574a-8cd8-4fb4-9cd3-a48a74fa244d",
   "metadata": {},
   "outputs": [
    {
     "name": "stdout",
     "output_type": "stream",
     "text": [
      "{1, 2, 3, 4, 5}\n"
     ]
    }
   ],
   "source": [
    "print(s3)"
   ]
  },
  {
   "cell_type": "code",
   "execution_count": 90,
   "id": "970b5aea-8745-44e5-80c7-053ad57fca19",
   "metadata": {},
   "outputs": [],
   "source": [
    "#Agergar\n",
    "s3.add(35)"
   ]
  },
  {
   "cell_type": "code",
   "execution_count": 91,
   "id": "ccd222c0-29b9-4a8d-bc4f-9c28a1fa7b06",
   "metadata": {},
   "outputs": [],
   "source": [
    "#remover\n",
    "s3.remove(1)"
   ]
  },
  {
   "cell_type": "code",
   "execution_count": 92,
   "id": "dd88379b-5cb7-4221-aaeb-4a24694b20dc",
   "metadata": {},
   "outputs": [
    {
     "ename": "KeyError",
     "evalue": "6",
     "output_type": "error",
     "traceback": [
      "\u001b[1;31m---------------------------------------------------------------------------\u001b[0m",
      "\u001b[1;31mKeyError\u001b[0m                                  Traceback (most recent call last)",
      "\u001b[1;32m~\\AppData\\Local\\Temp\\ipykernel_9732\\470678125.py\u001b[0m in \u001b[0;36m<module>\u001b[1;34m\u001b[0m\n\u001b[1;32m----> 1\u001b[1;33m \u001b[0ms3\u001b[0m\u001b[1;33m.\u001b[0m\u001b[0mremove\u001b[0m\u001b[1;33m(\u001b[0m\u001b[1;36m6\u001b[0m\u001b[1;33m)\u001b[0m\u001b[1;33m\u001b[0m\u001b[1;33m\u001b[0m\u001b[0m\n\u001b[0m",
      "\u001b[1;31mKeyError\u001b[0m: 6"
     ]
    }
   ],
   "source": [
    "s3.remove(6)"
   ]
  },
  {
   "cell_type": "code",
   "execution_count": 93,
   "id": "16ab0ae2-c1c9-43ec-bfc4-567ac088a85f",
   "metadata": {},
   "outputs": [],
   "source": [
    "#Descartar\n",
    "s3.discard(6)"
   ]
  },
  {
   "cell_type": "code",
   "execution_count": 94,
   "id": "454e974f-2324-46f9-afd5-dfa9588352b0",
   "metadata": {},
   "outputs": [],
   "source": [
    "#Vaciar\n",
    "s3.clear()"
   ]
  },
  {
   "cell_type": "markdown",
   "id": "b88f2b5f-aa23-4c28-ae7b-43c8792bb48a",
   "metadata": {},
   "source": [
    "## Booleanos"
   ]
  },
  {
   "cell_type": "code",
   "execution_count": 95,
   "id": "05b70f9f-50ff-4836-9cf1-71a64f0e99c3",
   "metadata": {},
   "outputs": [
    {
     "name": "stdout",
     "output_type": "stream",
     "text": [
      "<class 'bool'>\n"
     ]
    }
   ],
   "source": [
    "bol1 = True\n",
    "bol2 = False\n",
    "\n",
    "print(type(bol1))"
   ]
  },
  {
   "cell_type": "code",
   "execution_count": 96,
   "id": "bfa0ff19-60a0-472a-a5d0-104141635531",
   "metadata": {},
   "outputs": [
    {
     "name": "stdout",
     "output_type": "stream",
     "text": [
      "False\n",
      "False\n"
     ]
    }
   ],
   "source": [
    "numero = 5==4\n",
    "print(numero)\n",
    "numero = 5 > 9\n",
    "print(numero)"
   ]
  },
  {
   "cell_type": "code",
   "execution_count": 97,
   "id": "4a70b46f-ad75-4f1f-92fa-7bc010aae15a",
   "metadata": {},
   "outputs": [
    {
     "name": "stdout",
     "output_type": "stream",
     "text": [
      "False\n"
     ]
    }
   ],
   "source": [
    "numero = 5 != 2+3\n",
    "print(numero)"
   ]
  },
  {
   "cell_type": "code",
   "execution_count": 98,
   "id": "35b001d7-b6c3-42c0-a135-03787067c3c7",
   "metadata": {},
   "outputs": [
    {
     "name": "stdout",
     "output_type": "stream",
     "text": [
      "True\n"
     ]
    }
   ],
   "source": [
    "lista = [1,2,3,4,5]\n",
    "\n",
    "control = 5 in lista\n",
    "print(control)"
   ]
  },
  {
   "cell_type": "code",
   "execution_count": 99,
   "id": "43bf2f73-2b45-46d0-a26c-537ac5b7453a",
   "metadata": {},
   "outputs": [
    {
     "name": "stdout",
     "output_type": "stream",
     "text": [
      "False\n"
     ]
    },
    {
     "data": {
      "text/plain": [
       "bool"
      ]
     },
     "execution_count": 99,
     "metadata": {},
     "output_type": "execute_result"
    }
   ],
   "source": [
    "control = 5 not in lista\n",
    "print(control)\n",
    "\n",
    "type(control)"
   ]
  },
  {
   "cell_type": "code",
   "execution_count": 100,
   "id": "898537c5-0d9d-4882-a638-434bcaac66f6",
   "metadata": {},
   "outputs": [
    {
     "data": {
      "text/plain": [
       "'\\n1.-El usuario tendrá que ingresar un texto económico de cualquier dimensión\\n2.-Tendrá que ingresar 2 palabras relacionados al texto y se tendrá que \\nimprimir si realmente está esa palabra y cuántas veces aparece dentro del texto\\n3.-Devuelve todas las palabras que contenga el texto\\n4.-Ver cuál es la primera letra y última con la que comienza el texto\\n5.-Ver si la palabra dinero aparece en el texto\\n'"
      ]
     },
     "execution_count": 100,
     "metadata": {},
     "output_type": "execute_result"
    }
   ],
   "source": [
    "#Proyecto\n",
    "'''\n",
    "1.-El usuario tendrá que ingresar un texto económico de cualquier dimensión\n",
    "2.-Tendrá que ingresar 2 palabras relacionados al texto y se tendrá que \n",
    "imprimir si realmente está esa palabra y cuántas veces aparece dentro del texto\n",
    "3.-Devuelve todas las palabras que contenga el texto\n",
    "4.-Ver cuál es la primera letra y última con la que comienza el texto\n",
    "5.-Ver si la palabra dinero aparece en el texto\n",
    "''' \n"
   ]
  },
  {
   "cell_type": "markdown",
   "id": "7e26fb42-ae86-43f9-9a9d-f68dd3c19d09",
   "metadata": {},
   "source": [
    "## Operaciones de comparación"
   ]
  },
  {
   "cell_type": "markdown",
   "id": "a702e4ad-09fa-4991-8c01-a1a452694ccf",
   "metadata": {},
   "source": [
    "#--------------Operaciones de comparación------\n",
    "# >, <, >=, <=, ==, != "
   ]
  },
  {
   "cell_type": "code",
   "execution_count": 14,
   "id": "68259c2c-4552-4bb7-a164-2437e42dc893",
   "metadata": {},
   "outputs": [
    {
     "name": "stdout",
     "output_type": "stream",
     "text": [
      "True\n"
     ]
    }
   ],
   "source": [
    "comparar = 'adios' == 'adios'\n",
    "print(comparar)"
   ]
  },
  {
   "cell_type": "code",
   "execution_count": 103,
   "id": "fcef9f9d-885d-4b10-92cc-97eb42599a08",
   "metadata": {},
   "outputs": [
    {
     "name": "stdout",
     "output_type": "stream",
     "text": [
      "True\n"
     ]
    }
   ],
   "source": [
    "comparar  = 'hola' != 'adios'\n",
    "print(comparar)"
   ]
  },
  {
   "cell_type": "markdown",
   "id": "9e326cd6-f418-49ad-8319-72a6e6c39460",
   "metadata": {},
   "source": [
    "## Operadores lógicos"
   ]
  },
  {
   "cell_type": "code",
   "execution_count": 104,
   "id": "ad3e667b-7328-4cb3-9f06-e985a05d08dd",
   "metadata": {},
   "outputs": [
    {
     "name": "stdout",
     "output_type": "stream",
     "text": [
      "True\n"
     ]
    }
   ],
   "source": [
    "#-------------Operadores lógicos-----------\n",
    "# and, or y not \n",
    "operacion = 4 < 5 < 6\n",
    "print(operacion)"
   ]
  },
  {
   "cell_type": "code",
   "execution_count": 105,
   "id": "026838f7-8e5b-410e-a077-fdcb10c08c0f",
   "metadata": {},
   "outputs": [
    {
     "name": "stdout",
     "output_type": "stream",
     "text": [
      "False\n"
     ]
    }
   ],
   "source": [
    "operacion = 4 > 5 < 6 \n",
    "print(operacion)"
   ]
  },
  {
   "cell_type": "code",
   "execution_count": 106,
   "id": "4c2956e5-7603-4dfa-8222-545d27ed78f0",
   "metadata": {},
   "outputs": [
    {
     "name": "stdout",
     "output_type": "stream",
     "text": [
      "False\n"
     ]
    }
   ],
   "source": [
    "operacion = 4 < 5 and 5 >6\n",
    "operacion = (4 < 5) and (5 > 6)\n",
    "print(operacion)"
   ]
  },
  {
   "cell_type": "code",
   "execution_count": 107,
   "id": "7dcd1de1-6ada-4594-a3b3-892e79f87fcd",
   "metadata": {},
   "outputs": [
    {
     "name": "stdout",
     "output_type": "stream",
     "text": [
      "False\n"
     ]
    }
   ],
   "source": [
    "texto = 'Este es un texto'\n",
    "resul = ('es' in texto) and ('hola' in texto)\n",
    "print(resul)"
   ]
  },
  {
   "cell_type": "code",
   "execution_count": 108,
   "id": "213aca4b-18a4-41f2-8e63-b1d3672dffd4",
   "metadata": {},
   "outputs": [
    {
     "name": "stdout",
     "output_type": "stream",
     "text": [
      "True\n"
     ]
    }
   ],
   "source": [
    "resul = not('b' == 'a')\n",
    "print(resul)"
   ]
  }
 ],
 "metadata": {
  "kernelspec": {
   "display_name": "Python 3 (ipykernel)",
   "language": "python",
   "name": "python3"
  },
  "language_info": {
   "codemirror_mode": {
    "name": "ipython",
    "version": 3
   },
   "file_extension": ".py",
   "mimetype": "text/x-python",
   "name": "python",
   "nbconvert_exporter": "python",
   "pygments_lexer": "ipython3",
   "version": "3.11.7"
  }
 },
 "nbformat": 4,
 "nbformat_minor": 5
}
