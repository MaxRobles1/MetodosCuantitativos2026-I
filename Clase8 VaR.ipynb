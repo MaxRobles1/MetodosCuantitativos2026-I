{
 "cells": [
  {
   "cell_type": "markdown",
   "metadata": {
    "id": "DWaOEM8sPx6x"
   },
   "source": [
    "<font color=\"Teal\" face=\"Arial\">\n",
    "  <h1 align=\"center\"><i>Métodos Cuantitativos</i></h1>\n",
    "  </font>\n",
    "  <font color=\"Black\" face=\"Arial\">\n",
    "  <h5 align=\"center\"><i>Maximino Jiménez Robles</i></h5>\n",
    "  <h5 align=\"center\"><i>Ayudantía</i></h5>\n",
    "  </font>"
   ]
  },
  {
   "cell_type": "markdown",
   "metadata": {
    "id": "DSu6qaIEBJGV"
   },
   "source": [
    "# VaR (Value at Risk)\n",
    "El valor en riesgo es un a teoría creada para la administración del riesgo financiero de una empresa. Estos riesgos son aquellos que provienen de posibles pérdidas en el mercado financiero, por ejemplo: variaciones de activos, tasas de interés, etc. Todos esos riesgos, que son los que trata de administrar la teoría del VaR pueden subdividirse en:\n",
    "\n",
    "\n",
    "\n",
    "* Riesgo de mercado: movimientos en los niveles o volatilidad en los precios de mercado.\n",
    "* Riesgo de crédito: posibilidad de que la contraparte se niegue o no pueda cumplir con los compromisos de pagos que adquirió en el pasado.\n",
    "* Riesgo de liquidez: este riesgo puede dividirse en dos, por una parte que sea difícil liquidar los activo al precio correspondiente (puede ser debido al tamaño de la posición por ejemplo), por lo que haya que disminuir su precio para deshacerse del activo. Por otro lado el hecho de tener que liquidar tempranamente una posición para así poder cumplir con las obligaciones de pago.\n",
    "* Riesgo operacional: viene dado por posibles errores técnicos o humanos.\n",
    "* Riesgo Legal: eventualidad de que un contrato no se pueda hacer cumplir legalmente.\n",
    "\n",
    "\n",
    "\n"
   ]
  },
  {
   "cell_type": "markdown",
   "metadata": {
    "id": "tqoY-HEzV02V"
   },
   "source": [
    "# VaR\n",
    "Es una estadística que cuantifica el alcance de las posibles pérdidas financieras dentro de una empresa, cartera o posición durante un período de tiempo específico.\n",
    "\n",
    "Los gestores de riesgos utilizan el VaR para medir y controlar el nivel de exposición al riesgo. \n",
    "\n",
    "1.   El valor en riesgo (VaR) es una forma de cuantificar el riesgo de pérdidas potenciales para una empresa o una inversión.\n",
    "2.   Esta métrica se puede calcular de varias maneras, incluidos los métodos histórico, de varianza-covarianza y de Monte Carlo.\n",
    "3.   Los bancos de inversión suelen aplicar modelos de VaR al riesgo de toda la empresa debido a la posibilidad de que las mesas de negociación independientes expongan involuntariamente a la empresa a activos altamente correlacionados.\n",
    "\n",
    "\n",
    "\n",
    "\n",
    "\n",
    "\n",
    "\n",
    "\n",
    "\n",
    "\n"
   ]
  },
  {
   "cell_type": "markdown",
   "metadata": {
    "id": "WvN-saV-2wqk"
   },
   "source": [
    "# VaR histórico\n",
    "El método histórico, analiza el historial de rendimientos anteriores y los ordena desde las peores pérdidas hasta las mayores ganancias, partiendo de la premisa de que la experiencia de rendimientos pasados ​​informará los resultados futuros.\n",
    "\n",
    "Pasos:\n",
    "1.   Se elige un periodo de tiempo de información histórica con tamaño de $N$ observaciones.\n",
    "2.   Se calculan los $N-1$ rendimientos periódicos de la muestra seleccionada. Estos rendimientos pueden calcularse de forma logarítmica o aritmética.\n",
    "$$\\mbox{Logarítmico: }r_t=ln\\left ( \\frac{P_t}{P_{t-1}} \\right )$$\n",
    "$$\\mbox{Aritmético: }r_t=\\frac{P_t-P_{t-1}}{P_{t-1}}$$\n",
    "Donde:\n",
    ">>$r_t$ es el rendimiento al tiempo t y $P_t$ es el precio al timpo t.\n",
    "3.   Se calculan las $N-1$ rentabilidades\n",
    "$$L_t=V*r_t$$\n",
    "$$V=P_{\\mbox{Fecha de Valuación}}*\\mbox{No. Títulos}$$\n",
    "Donde:\n",
    ">>\n",
    "$L_t$ es la rentabilidad.$V$ es el valor de mercado del portafolio en la fecha $t$ y $r_t$ es el rendimiento al tiempo $t$.\n",
    "4.   Se ordenan las rentabilidades del menor al mayor $L_{(1)},\\cdots,L_{(N-1)}$ y se escoge la rentabilidad $L_{(j^*)}$ tal que:\n",
    "$$\\frac{j^*-1}{N-1}\\leq 1-\\alpha\\leq\\frac{j^*}{N-1}$$\n",
    "5.   Entonces el VaR Histórico nos queda:\n",
    "$$VaR(\\alpha)=L_{(j^*)}$$\n"
   ]
  },
  {
   "cell_type": "markdown",
   "metadata": {},
   "source": [
    "# Ejemplo Introductorio y manual"
   ]
  },
  {
   "cell_type": "markdown",
   "metadata": {},
   "source": [
    "Se tiene un activo para el cual sus rendimiento son diarios y se muestran a continuación:"
   ]
  },
  {
   "cell_type": "code",
   "execution_count": 1,
   "metadata": {},
   "outputs": [],
   "source": [
    "rendimientos = [-0.10,-0.08,-0.05,-0.04,0.01,-0.03,-0.02,-0.02,0.03,0.021,0.022,0.05,0.06,0.015,0.02,0.03,0.06,0.01,0.01,0.02]"
   ]
  },
  {
   "cell_type": "markdown",
   "metadata": {},
   "source": [
    "¿Si se tiene un intervalo de confianza al 80% cuál es la pérdida esperada?"
   ]
  },
  {
   "cell_type": "code",
   "execution_count": 2,
   "metadata": {},
   "outputs": [
    {
     "data": {
      "text/plain": [
       "20"
      ]
     },
     "execution_count": 2,
     "metadata": {},
     "output_type": "execute_result"
    }
   ],
   "source": [
    "# 1\n",
    "len(rendimientos)"
   ]
  },
  {
   "cell_type": "code",
   "execution_count": 3,
   "metadata": {},
   "outputs": [
    {
     "name": "stdout",
     "output_type": "stream",
     "text": [
      "[-0.1, -0.08, -0.05, -0.04, -0.03, -0.02, -0.02, 0.01, 0.01, 0.01, 0.015, 0.02, 0.02, 0.021, 0.022, 0.03, 0.03, 0.05, 0.06, 0.06]\n"
     ]
    }
   ],
   "source": [
    "# 2 y 3 : es calcular los rendimientos y rentabilidad, pero como ya los tenemos calculados \n",
    "# no hay necesidad\n",
    "\n",
    "# 4 Ordenamos de menor a mayor\n",
    "ordenados = sorted(rendimientos)\n",
    "print(ordenados)"
   ]
  },
  {
   "cell_type": "markdown",
   "metadata": {},
   "source": [
    "Porcentaje = 20%\n",
    "Número total de datos = 20 (la longitud de la lista)\n",
    "\n",
    "Número de datos al 20% = (20/100) * 20 = 2"
   ]
  },
  {
   "cell_type": "code",
   "execution_count": 4,
   "metadata": {},
   "outputs": [
    {
     "data": {
      "text/plain": [
       "4.0"
      ]
     },
     "execution_count": 4,
     "metadata": {},
     "output_type": "execute_result"
    }
   ],
   "source": [
    "(20/100)*20"
   ]
  },
  {
   "cell_type": "code",
   "execution_count": 5,
   "metadata": {},
   "outputs": [
    {
     "name": "stdout",
     "output_type": "stream",
     "text": [
      "El cuantil al 20% es -0.04\n"
     ]
    }
   ],
   "source": [
    "print(f\"El cuantil al 20% es {ordenados[3]}\")"
   ]
  },
  {
   "cell_type": "code",
   "execution_count": 6,
   "metadata": {},
   "outputs": [],
   "source": [
    "import numpy as np"
   ]
  },
  {
   "cell_type": "code",
   "execution_count": 7,
   "metadata": {},
   "outputs": [
    {
     "name": "stdout",
     "output_type": "stream",
     "text": [
      "El cuantil al 20% es: -0.031999999999999994\n"
     ]
    }
   ],
   "source": [
    "cuantil_20 = np.percentile(ordenados, 20)\n",
    "print(\"El cuantil al 20% es:\", cuantil_20)"
   ]
  },
  {
   "cell_type": "markdown",
   "metadata": {},
   "source": [
    "Si deseas obtener resultados consistentes con numpy.percentile(), puedes especificar la interpolación lineal al calcular el cuantil con Pandas de la siguiente manera:"
   ]
  },
  {
   "cell_type": "code",
   "execution_count": 8,
   "metadata": {},
   "outputs": [],
   "source": [
    "import pandas as pd"
   ]
  },
  {
   "cell_type": "code",
   "execution_count": 9,
   "metadata": {},
   "outputs": [],
   "source": [
    "ordenados = pd.Series(rendimientos)"
   ]
  },
  {
   "cell_type": "code",
   "execution_count": 10,
   "metadata": {},
   "outputs": [
    {
     "data": {
      "text/plain": [
       "np.float64(-0.031999999999999994)"
      ]
     },
     "execution_count": 10,
     "metadata": {},
     "output_type": "execute_result"
    }
   ],
   "source": [
    "cuantil_20_pandas = ordenados.quantile(0.2, interpolation='linear')\n",
    "cuantil_20_pandas"
   ]
  },
  {
   "cell_type": "code",
   "execution_count": 11,
   "metadata": {},
   "outputs": [
    {
     "data": {
      "text/plain": [
       "np.float64(-0.03)"
      ]
     },
     "execution_count": 11,
     "metadata": {},
     "output_type": "execute_result"
    }
   ],
   "source": [
    "cuantil_20_pandas = ordenados.quantile(0.2, interpolation='nearest')\n",
    "cuantil_20_pandas"
   ]
  },
  {
   "cell_type": "code",
   "execution_count": 12,
   "metadata": {},
   "outputs": [
    {
     "data": {
      "text/plain": [
       "np.float64(-0.04)"
      ]
     },
     "execution_count": 12,
     "metadata": {},
     "output_type": "execute_result"
    }
   ],
   "source": [
    "cuantil_20_pandas = ordenados.quantile(0.2, interpolation='lower')\n",
    "cuantil_20_pandas"
   ]
  },
  {
   "cell_type": "code",
   "execution_count": 13,
   "metadata": {},
   "outputs": [
    {
     "data": {
      "text/plain": [
       "np.float64(-0.03)"
      ]
     },
     "execution_count": 13,
     "metadata": {},
     "output_type": "execute_result"
    }
   ],
   "source": [
    "cuantil_20_pandas = ordenados.quantile(0.2, interpolation='higher')\n",
    "cuantil_20_pandas"
   ]
  },
  {
   "cell_type": "code",
   "execution_count": 14,
   "metadata": {},
   "outputs": [
    {
     "data": {
      "text/plain": [
       "np.float64(-0.035)"
      ]
     },
     "execution_count": 14,
     "metadata": {},
     "output_type": "execute_result"
    }
   ],
   "source": [
    "cuantil_20_pandas = ordenados.quantile(0.2, interpolation='midpoint')\n",
    "cuantil_20_pandas"
   ]
  },
  {
   "cell_type": "markdown",
   "metadata": {},
   "source": [
    "**Si suponemos una inversón en ese activo de $1,000 dólares, entonces el VaR al 80% es de:**"
   ]
  },
  {
   "cell_type": "code",
   "execution_count": 15,
   "metadata": {},
   "outputs": [
    {
     "name": "stdout",
     "output_type": "stream",
     "text": [
      "El valor en riesgo es de $40.0 dólares\n"
     ]
    }
   ],
   "source": [
    "VaR = 1000*(0.04)\n",
    "print(f\"El valor en riesgo es de ${VaR} dólares\")"
   ]
  },
  {
   "cell_type": "markdown",
   "metadata": {},
   "source": [
    "**Es decir, existe una probabilidad del 20% de perder al menos 40 dólares(es equivalente decir que existe una proba del 20% de que las pérdidas superen los 40 dólares), o bien 2 de cada 10 días se va a perder por lo menos 40 dólares**"
   ]
  },
  {
   "cell_type": "markdown",
   "metadata": {},
   "source": [
    "# Código con precios online"
   ]
  },
  {
   "cell_type": "code",
   "execution_count": 16,
   "metadata": {
    "colab": {
     "base_uri": "https://localhost:8080/"
    },
    "executionInfo": {
     "elapsed": 18806,
     "status": "ok",
     "timestamp": 1673846520793,
     "user": {
      "displayName": "Max Jiménez Robles",
      "userId": "12421327073560245430"
     },
     "user_tz": 360
    },
    "id": "3BObZ_xf2Hzh",
    "outputId": "1c35b988-2f4d-4a0b-fbd2-7aeb69997d5d"
   },
   "outputs": [],
   "source": [
    "# !pip install yfinance\n",
    "#Importamos las librerias\n",
    "import pandas as pd\n",
    "import numpy as np\n",
    "import yfinance as yf\n",
    "from datetime import datetime\n",
    "import matplotlib.pyplot as plt\n",
    "from scipy.stats import norm"
   ]
  },
  {
   "cell_type": "code",
   "execution_count": 17,
   "metadata": {
    "colab": {
     "base_uri": "https://localhost:8080/",
     "height": 255
    },
    "executionInfo": {
     "elapsed": 1137,
     "status": "ok",
     "timestamp": 1673846534727,
     "user": {
      "displayName": "Max Jiménez Robles",
      "userId": "12421327073560245430"
     },
     "user_tz": 360
    },
    "id": "8nOOylez2Qu_",
    "outputId": "51394957-9b88-495c-f72f-08199f229097"
   },
   "outputs": [
    {
     "name": "stderr",
     "output_type": "stream",
     "text": [
      "[*********************100%***********************]  2 of 2 completed\n"
     ]
    },
    {
     "data": {
      "text/html": [
       "<div>\n",
       "<style scoped>\n",
       "    .dataframe tbody tr th:only-of-type {\n",
       "        vertical-align: middle;\n",
       "    }\n",
       "\n",
       "    .dataframe tbody tr th {\n",
       "        vertical-align: top;\n",
       "    }\n",
       "\n",
       "    .dataframe thead th {\n",
       "        text-align: right;\n",
       "    }\n",
       "</style>\n",
       "<table border=\"1\" class=\"dataframe\">\n",
       "  <thead>\n",
       "    <tr style=\"text-align: right;\">\n",
       "      <th>Ticker</th>\n",
       "      <th>AMD</th>\n",
       "      <th>XOM</th>\n",
       "    </tr>\n",
       "    <tr>\n",
       "      <th>Date</th>\n",
       "      <th></th>\n",
       "      <th></th>\n",
       "    </tr>\n",
       "  </thead>\n",
       "  <tbody>\n",
       "    <tr>\n",
       "      <th>2022-01-03</th>\n",
       "      <td>150.240005</td>\n",
       "      <td>55.607399</td>\n",
       "    </tr>\n",
       "    <tr>\n",
       "      <th>2022-01-04</th>\n",
       "      <td>144.419998</td>\n",
       "      <td>57.699013</td>\n",
       "    </tr>\n",
       "    <tr>\n",
       "      <th>2022-01-05</th>\n",
       "      <td>136.149994</td>\n",
       "      <td>58.416645</td>\n",
       "    </tr>\n",
       "    <tr>\n",
       "      <th>2022-01-06</th>\n",
       "      <td>136.229996</td>\n",
       "      <td>59.790634</td>\n",
       "    </tr>\n",
       "    <tr>\n",
       "      <th>2022-01-07</th>\n",
       "      <td>132.000000</td>\n",
       "      <td>60.280716</td>\n",
       "    </tr>\n",
       "  </tbody>\n",
       "</table>\n",
       "</div>"
      ],
      "text/plain": [
       "Ticker             AMD        XOM\n",
       "Date                             \n",
       "2022-01-03  150.240005  55.607399\n",
       "2022-01-04  144.419998  57.699013\n",
       "2022-01-05  136.149994  58.416645\n",
       "2022-01-06  136.229996  59.790634\n",
       "2022-01-07  132.000000  60.280716"
      ]
     },
     "execution_count": 17,
     "metadata": {},
     "output_type": "execute_result"
    }
   ],
   "source": [
    "#-------------------------------PASO 1-----------------------------------------\n",
    "\n",
    "#Enlistamos las etiquetas de las acciones, en este caso solo lo ocuparemos \n",
    "#para dos podrían ser más y sería de la misma manera.\n",
    "tickers = (\"AMD\", \"XOM\")\n",
    "\n",
    "#Asignamos las fechas con las que trabajaremos, una de inicio y final\n",
    "fecha_inicio = '2022-01-03'\n",
    "fecha_final = '2023-10-03'\n",
    "\n",
    "#Jalamos los datos a utilizar por medio de la API que se conecta a Yahoo Finance\n",
    "#utilizando el método de pandas datareader\n",
    "data0 = yf.download(tickers, start=fecha_inicio, end=fecha_final, auto_adjust=True, ignore_tz=True)[\"Close\"]\n",
    "\n",
    "#Imprimimos los primeros 5 datos para ver si se hizo de manera correcta\n",
    "data0.head(5)"
   ]
  },
  {
   "cell_type": "code",
   "execution_count": 18,
   "metadata": {
    "colab": {
     "base_uri": "https://localhost:8080/",
     "height": 238
    },
    "executionInfo": {
     "elapsed": 355,
     "status": "ok",
     "timestamp": 1673846627957,
     "user": {
      "displayName": "Max Jiménez Robles",
      "userId": "12421327073560245430"
     },
     "user_tz": 360
    },
    "id": "pzRBeNUdo9X8",
    "outputId": "c9e5ce33-4556-446f-939a-3cf92bd6702b"
   },
   "outputs": [
    {
     "data": {
      "text/html": [
       "<div>\n",
       "<style scoped>\n",
       "    .dataframe tbody tr th:only-of-type {\n",
       "        vertical-align: middle;\n",
       "    }\n",
       "\n",
       "    .dataframe tbody tr th {\n",
       "        vertical-align: top;\n",
       "    }\n",
       "\n",
       "    .dataframe thead th {\n",
       "        text-align: right;\n",
       "    }\n",
       "</style>\n",
       "<table border=\"1\" class=\"dataframe\">\n",
       "  <thead>\n",
       "    <tr style=\"text-align: right;\">\n",
       "      <th>Ticker</th>\n",
       "      <th>AMD</th>\n",
       "      <th>XOM</th>\n",
       "      <th>Rendimientos AMD</th>\n",
       "      <th>Rendimientos XOM</th>\n",
       "    </tr>\n",
       "    <tr>\n",
       "      <th>Date</th>\n",
       "      <th></th>\n",
       "      <th></th>\n",
       "      <th></th>\n",
       "      <th></th>\n",
       "    </tr>\n",
       "  </thead>\n",
       "  <tbody>\n",
       "    <tr>\n",
       "      <th>2022-01-03</th>\n",
       "      <td>150.240005</td>\n",
       "      <td>55.607399</td>\n",
       "      <td>0.000000</td>\n",
       "      <td>0.000000</td>\n",
       "    </tr>\n",
       "    <tr>\n",
       "      <th>2022-01-04</th>\n",
       "      <td>144.419998</td>\n",
       "      <td>57.699013</td>\n",
       "      <td>-0.039508</td>\n",
       "      <td>0.036924</td>\n",
       "    </tr>\n",
       "    <tr>\n",
       "      <th>2022-01-05</th>\n",
       "      <td>136.149994</td>\n",
       "      <td>58.416645</td>\n",
       "      <td>-0.058969</td>\n",
       "      <td>0.012361</td>\n",
       "    </tr>\n",
       "    <tr>\n",
       "      <th>2022-01-06</th>\n",
       "      <td>136.229996</td>\n",
       "      <td>59.790634</td>\n",
       "      <td>0.000587</td>\n",
       "      <td>0.023248</td>\n",
       "    </tr>\n",
       "    <tr>\n",
       "      <th>2022-01-07</th>\n",
       "      <td>132.000000</td>\n",
       "      <td>60.280716</td>\n",
       "      <td>-0.031543</td>\n",
       "      <td>0.008163</td>\n",
       "    </tr>\n",
       "  </tbody>\n",
       "</table>\n",
       "</div>"
      ],
      "text/plain": [
       "Ticker             AMD        XOM  Rendimientos AMD  Rendimientos XOM\n",
       "Date                                                                 \n",
       "2022-01-03  150.240005  55.607399          0.000000          0.000000\n",
       "2022-01-04  144.419998  57.699013         -0.039508          0.036924\n",
       "2022-01-05  136.149994  58.416645         -0.058969          0.012361\n",
       "2022-01-06  136.229996  59.790634          0.000587          0.023248\n",
       "2022-01-07  132.000000  60.280716         -0.031543          0.008163"
      ]
     },
     "execution_count": 18,
     "metadata": {},
     "output_type": "execute_result"
    }
   ],
   "source": [
    "#Creamos las columnas de los rendimientos y las llenamos con ceros\n",
    "data0['Rendimientos AMD'] = np.zeros(len(data0))\n",
    "data0['Rendimientos XOM'] = np.zeros(len(data0))\n",
    "#-------------------------------------PASO 2------------------------------------\n",
    "#Calculamos los rendimientos logaritmicos\n",
    "for i in range(1, len(data0)):\n",
    "    data0.iloc[i, 2] = np.log(data0.iloc[i, 0]/data0.iloc[i-1, 0])\n",
    "    data0.iloc[i, 3] = np.log(data0.iloc[i, 1]/data0.iloc[i-1, 1])\n",
    "data0.head()"
   ]
  },
  {
   "cell_type": "code",
   "execution_count": 19,
   "metadata": {
    "id": "6uljoGnprrSk"
   },
   "outputs": [],
   "source": [
    "#Supongamos que tenemos un portafolio de 5 millones invertidos en las \n",
    "#siguientes acciones\n",
    "valor_amd = 3.5 #millones de USD\n",
    "valor_xom = 1.5 #millones de USD"
   ]
  },
  {
   "cell_type": "code",
   "execution_count": 20,
   "metadata": {
    "colab": {
     "base_uri": "https://localhost:8080/",
     "height": 386
    },
    "executionInfo": {
     "elapsed": 120,
     "status": "ok",
     "timestamp": 1673846705644,
     "user": {
      "displayName": "Max Jiménez Robles",
      "userId": "12421327073560245430"
     },
     "user_tz": 360
    },
    "id": "e6SqcYlBr1dU",
    "outputId": "0b259f2c-5735-46d6-d728-fb165cd9bb2f"
   },
   "outputs": [
    {
     "data": {
      "text/html": [
       "<div>\n",
       "<style scoped>\n",
       "    .dataframe tbody tr th:only-of-type {\n",
       "        vertical-align: middle;\n",
       "    }\n",
       "\n",
       "    .dataframe tbody tr th {\n",
       "        vertical-align: top;\n",
       "    }\n",
       "\n",
       "    .dataframe thead th {\n",
       "        text-align: right;\n",
       "    }\n",
       "</style>\n",
       "<table border=\"1\" class=\"dataframe\">\n",
       "  <thead>\n",
       "    <tr style=\"text-align: right;\">\n",
       "      <th>Ticker</th>\n",
       "      <th>AMD</th>\n",
       "      <th>XOM</th>\n",
       "      <th>Rendimientos AMD</th>\n",
       "      <th>Rendimientos XOM</th>\n",
       "      <th>Rentabilidades AMD</th>\n",
       "      <th>Rentabilidades XOM</th>\n",
       "    </tr>\n",
       "    <tr>\n",
       "      <th>Date</th>\n",
       "      <th></th>\n",
       "      <th></th>\n",
       "      <th></th>\n",
       "      <th></th>\n",
       "      <th></th>\n",
       "      <th></th>\n",
       "    </tr>\n",
       "  </thead>\n",
       "  <tbody>\n",
       "    <tr>\n",
       "      <th>2022-01-03</th>\n",
       "      <td>150.240005</td>\n",
       "      <td>55.607399</td>\n",
       "      <td>0.000000</td>\n",
       "      <td>0.000000</td>\n",
       "      <td>0.000000</td>\n",
       "      <td>0.000000</td>\n",
       "    </tr>\n",
       "    <tr>\n",
       "      <th>2022-01-04</th>\n",
       "      <td>144.419998</td>\n",
       "      <td>57.699013</td>\n",
       "      <td>-0.039508</td>\n",
       "      <td>0.036924</td>\n",
       "      <td>-0.138279</td>\n",
       "      <td>0.055386</td>\n",
       "    </tr>\n",
       "    <tr>\n",
       "      <th>2022-01-05</th>\n",
       "      <td>136.149994</td>\n",
       "      <td>58.416645</td>\n",
       "      <td>-0.058969</td>\n",
       "      <td>0.012361</td>\n",
       "      <td>-0.206390</td>\n",
       "      <td>0.018541</td>\n",
       "    </tr>\n",
       "    <tr>\n",
       "      <th>2022-01-06</th>\n",
       "      <td>136.229996</td>\n",
       "      <td>59.790634</td>\n",
       "      <td>0.000587</td>\n",
       "      <td>0.023248</td>\n",
       "      <td>0.002056</td>\n",
       "      <td>0.034872</td>\n",
       "    </tr>\n",
       "    <tr>\n",
       "      <th>2022-01-07</th>\n",
       "      <td>132.000000</td>\n",
       "      <td>60.280716</td>\n",
       "      <td>-0.031543</td>\n",
       "      <td>0.008163</td>\n",
       "      <td>-0.110399</td>\n",
       "      <td>0.012245</td>\n",
       "    </tr>\n",
       "  </tbody>\n",
       "</table>\n",
       "</div>"
      ],
      "text/plain": [
       "Ticker             AMD        XOM  Rendimientos AMD  Rendimientos XOM  \\\n",
       "Date                                                                    \n",
       "2022-01-03  150.240005  55.607399          0.000000          0.000000   \n",
       "2022-01-04  144.419998  57.699013         -0.039508          0.036924   \n",
       "2022-01-05  136.149994  58.416645         -0.058969          0.012361   \n",
       "2022-01-06  136.229996  59.790634          0.000587          0.023248   \n",
       "2022-01-07  132.000000  60.280716         -0.031543          0.008163   \n",
       "\n",
       "Ticker      Rentabilidades AMD  Rentabilidades XOM  \n",
       "Date                                                \n",
       "2022-01-03            0.000000            0.000000  \n",
       "2022-01-04           -0.138279            0.055386  \n",
       "2022-01-05           -0.206390            0.018541  \n",
       "2022-01-06            0.002056            0.034872  \n",
       "2022-01-07           -0.110399            0.012245  "
      ]
     },
     "execution_count": 20,
     "metadata": {},
     "output_type": "execute_result"
    }
   ],
   "source": [
    "#-------------------------------PASO 3-------------------------------\n",
    "\n",
    "#Calculamos las rentabilidades en función de nuestro portafolio\n",
    "data0['Rentabilidades AMD'] = data0['Rendimientos AMD']*valor_amd\n",
    "data0['Rentabilidades XOM'] = data0['Rendimientos XOM']*valor_xom\n",
    "\n",
    "#Imprimimos los primeros \n",
    "data0.head(5)"
   ]
  },
  {
   "cell_type": "code",
   "execution_count": 21,
   "metadata": {
    "colab": {
     "base_uri": "https://localhost:8080/",
     "height": 386
    },
    "executionInfo": {
     "elapsed": 103,
     "status": "ok",
     "timestamp": 1673846729133,
     "user": {
      "displayName": "Max Jiménez Robles",
      "userId": "12421327073560245430"
     },
     "user_tz": 360
    },
    "id": "TkmNPV1G2cZ4",
    "outputId": "780a1e5c-9430-4185-9f2e-8b041d858ea9"
   },
   "outputs": [
    {
     "data": {
      "text/html": [
       "<div>\n",
       "<style scoped>\n",
       "    .dataframe tbody tr th:only-of-type {\n",
       "        vertical-align: middle;\n",
       "    }\n",
       "\n",
       "    .dataframe tbody tr th {\n",
       "        vertical-align: top;\n",
       "    }\n",
       "\n",
       "    .dataframe thead th {\n",
       "        text-align: right;\n",
       "    }\n",
       "</style>\n",
       "<table border=\"1\" class=\"dataframe\">\n",
       "  <thead>\n",
       "    <tr style=\"text-align: right;\">\n",
       "      <th>Ticker</th>\n",
       "      <th>AMD</th>\n",
       "      <th>XOM</th>\n",
       "      <th>Rendimientos AMD</th>\n",
       "      <th>Rendimientos XOM</th>\n",
       "      <th>Rentabilidades AMD</th>\n",
       "      <th>Rentabilidades XOM</th>\n",
       "    </tr>\n",
       "    <tr>\n",
       "      <th>Date</th>\n",
       "      <th></th>\n",
       "      <th></th>\n",
       "      <th></th>\n",
       "      <th></th>\n",
       "      <th></th>\n",
       "      <th></th>\n",
       "    </tr>\n",
       "  </thead>\n",
       "  <tbody>\n",
       "    <tr>\n",
       "      <th>2022-01-03</th>\n",
       "      <td>150.240005</td>\n",
       "      <td>55.607399</td>\n",
       "      <td>0.000000</td>\n",
       "      <td>0.000000</td>\n",
       "      <td>0.000000</td>\n",
       "      <td>0.000000</td>\n",
       "    </tr>\n",
       "    <tr>\n",
       "      <th>2022-01-04</th>\n",
       "      <td>144.419998</td>\n",
       "      <td>57.699013</td>\n",
       "      <td>-0.039508</td>\n",
       "      <td>0.036924</td>\n",
       "      <td>-0.138279</td>\n",
       "      <td>0.055386</td>\n",
       "    </tr>\n",
       "    <tr>\n",
       "      <th>2022-01-05</th>\n",
       "      <td>136.149994</td>\n",
       "      <td>58.416645</td>\n",
       "      <td>-0.058969</td>\n",
       "      <td>0.012361</td>\n",
       "      <td>-0.206390</td>\n",
       "      <td>0.018541</td>\n",
       "    </tr>\n",
       "    <tr>\n",
       "      <th>2022-01-06</th>\n",
       "      <td>136.229996</td>\n",
       "      <td>59.790634</td>\n",
       "      <td>0.000587</td>\n",
       "      <td>0.023248</td>\n",
       "      <td>0.002056</td>\n",
       "      <td>0.034872</td>\n",
       "    </tr>\n",
       "    <tr>\n",
       "      <th>2022-01-07</th>\n",
       "      <td>132.000000</td>\n",
       "      <td>60.280716</td>\n",
       "      <td>-0.031543</td>\n",
       "      <td>0.008163</td>\n",
       "      <td>-0.110399</td>\n",
       "      <td>0.012245</td>\n",
       "    </tr>\n",
       "  </tbody>\n",
       "</table>\n",
       "</div>"
      ],
      "text/plain": [
       "Ticker             AMD        XOM  Rendimientos AMD  Rendimientos XOM  \\\n",
       "Date                                                                    \n",
       "2022-01-03  150.240005  55.607399          0.000000          0.000000   \n",
       "2022-01-04  144.419998  57.699013         -0.039508          0.036924   \n",
       "2022-01-05  136.149994  58.416645         -0.058969          0.012361   \n",
       "2022-01-06  136.229996  59.790634          0.000587          0.023248   \n",
       "2022-01-07  132.000000  60.280716         -0.031543          0.008163   \n",
       "\n",
       "Ticker      Rentabilidades AMD  Rentabilidades XOM  \n",
       "Date                                                \n",
       "2022-01-03            0.000000            0.000000  \n",
       "2022-01-04           -0.138279            0.055386  \n",
       "2022-01-05           -0.206390            0.018541  \n",
       "2022-01-06            0.002056            0.034872  \n",
       "2022-01-07           -0.110399            0.012245  "
      ]
     },
     "execution_count": 21,
     "metadata": {},
     "output_type": "execute_result"
    }
   ],
   "source": [
    "#-------------------------------PASO 3-------------------------------\n",
    "#Calculamos las rentabilidades en función de nuestro portafolio\n",
    "data0['Rentabilidades AMD'] = data0['Rendimientos AMD']*valor_amd\n",
    "data0['Rentabilidades XOM'] = data0['Rendimientos XOM']*valor_xom\n",
    "\n",
    "#Imprimimos los primeros\n",
    "data0.head(5)"
   ]
  },
  {
   "cell_type": "code",
   "execution_count": 22,
   "metadata": {
    "colab": {
     "base_uri": "https://localhost:8080/",
     "height": 330
    },
    "executionInfo": {
     "elapsed": 836,
     "status": "ok",
     "timestamp": 1673847394219,
     "user": {
      "displayName": "Max Jiménez Robles",
      "userId": "12421327073560245430"
     },
     "user_tz": 360
    },
    "id": "5fzItLHwC7ek",
    "outputId": "6ccef026-0f98-421b-9485-cdbb26f0a08f"
   },
   "outputs": [
    {
     "data": {
      "image/png": "[encoded data removed]",
      "text/plain": [
       "<Figure size 1220x450 with 1 Axes>"
      ]
     },
     "metadata": {},
     "output_type": "display_data"
    }
   ],
   "source": [
    "plt.figure(figsize=(12.2,4.5)) #Largo y acnho del gráfico\n",
    "plt.hist(data0['Rendimientos AMD'], bins = 100, color = '#27AE60')\n",
    "plt.title('Histogramas de rentabilidades AMD',fontsize=15, color = '#2874A6')\n",
    "plt.ylabel('Densidad',fontsize=15, color = '#D4AC0D')\n",
    "plt.xlabel('Rendimientos',fontsize=15,color = '#D4AC0D')\n",
    "plt.show()"
   ]
  },
  {
   "cell_type": "code",
   "execution_count": 23,
   "metadata": {},
   "outputs": [],
   "source": [
    "#----------------------PASO 4 y 5-----------------------------\n",
    "#Calculamos al 95% y 99% de confianza las rentabilidades\n",
    "cuantil_amd_95 = data0.quantile(q=0.05, axis=0).iloc[-2]\n",
    "cuantil_xom_95 = data0.quantile(q=0.05, axis=0).iloc[-1]\n",
    "\n",
    "cuantil_amd_99 = data0.quantile(q=0.01, axis=0).iloc[-2]\n",
    "cuantil_xom_99 = data0.quantile(q=0.01, axis=0).iloc[-1]\n"
   ]
  },
  {
   "cell_type": "code",
   "execution_count": 24,
   "metadata": {
    "colab": {
     "base_uri": "https://localhost:8080/"
    },
    "executionInfo": {
     "elapsed": 128,
     "status": "ok",
     "timestamp": 1673767380338,
     "user": {
      "displayName": "Max Jiménez Robles",
      "userId": "12421327073560245430"
     },
     "user_tz": 360
    },
    "id": "4QV_qL7NdDT_",
    "outputId": "8619b990-3208-4e21-bb8f-218607c8bc50"
   },
   "outputs": [
    {
     "data": {
      "text/plain": [
       "np.float64(-0.20365)"
      ]
     },
     "execution_count": 24,
     "metadata": {},
     "output_type": "execute_result"
    }
   ],
   "source": [
    "round(cuantil_amd_95,5)"
   ]
  },
  {
   "cell_type": "code",
   "execution_count": 25,
   "metadata": {
    "colab": {
     "base_uri": "https://localhost:8080/"
    },
    "executionInfo": {
     "elapsed": 110,
     "status": "ok",
     "timestamp": 1673846795567,
     "user": {
      "displayName": "Max Jiménez Robles",
      "userId": "12421327073560245430"
     },
     "user_tz": 360
    },
    "id": "0nsVnYo1CpC1",
    "outputId": "5f5d38f9-ec8b-4434-decd-7e95c68e6ea7"
   },
   "outputs": [
    {
     "data": {
      "text/plain": [
       "np.float64(-0.04787)"
      ]
     },
     "execution_count": 25,
     "metadata": {},
     "output_type": "execute_result"
    }
   ],
   "source": [
    "round(cuantil_xom_95,5)"
   ]
  },
  {
   "cell_type": "code",
   "execution_count": 26,
   "metadata": {
    "colab": {
     "base_uri": "https://localhost:8080/"
    },
    "executionInfo": {
     "elapsed": 110,
     "status": "ok",
     "timestamp": 1673846797277,
     "user": {
      "displayName": "Max Jiménez Robles",
      "userId": "12421327073560245430"
     },
     "user_tz": 360
    },
    "id": "Fig4ZIHOCpK7",
    "outputId": "65d78b39-05f6-47f8-d800-7ec29a4d5ea7"
   },
   "outputs": [
    {
     "data": {
      "text/plain": [
       "np.float64(-0.3195)"
      ]
     },
     "execution_count": 26,
     "metadata": {},
     "output_type": "execute_result"
    }
   ],
   "source": [
    "round(cuantil_amd_99,5)"
   ]
  },
  {
   "cell_type": "code",
   "execution_count": 27,
   "metadata": {
    "colab": {
     "base_uri": "https://localhost:8080/"
    },
    "executionInfo": {
     "elapsed": 128,
     "status": "ok",
     "timestamp": 1673846807798,
     "user": {
      "displayName": "Max Jiménez Robles",
      "userId": "12421327073560245430"
     },
     "user_tz": 360
    },
    "id": "gYmD5EyxCpSL",
    "outputId": "48fc726a-ac38-4cbb-dc8a-67076ecc155b"
   },
   "outputs": [
    {
     "data": {
      "text/plain": [
       "np.float64(-0.04787)"
      ]
     },
     "execution_count": 27,
     "metadata": {},
     "output_type": "execute_result"
    }
   ],
   "source": [
    "round(cuantil_xom_95,5)"
   ]
  },
  {
   "cell_type": "code",
   "execution_count": 28,
   "metadata": {
    "colab": {
     "base_uri": "https://localhost:8080/",
     "height": 330
    },
    "executionInfo": {
     "elapsed": 530,
     "status": "ok",
     "timestamp": 1673848033277,
     "user": {
      "displayName": "Max Jiménez Robles",
      "userId": "12421327073560245430"
     },
     "user_tz": 360
    },
    "id": "4Rl1lT77FKxF",
    "outputId": "61b4b7de-c425-42a0-a6b8-db87f4617abe"
   },
   "outputs": [
    {
     "data": {
      "image/png": "[encoded data removed]",
      "text/plain": [
       "<Figure size 1220x450 with 1 Axes>"
      ]
     },
     "metadata": {},
     "output_type": "display_data"
    }
   ],
   "source": [
    "plt.figure(figsize=(12.2,4.5)) #Largo y acnho del gráfico\n",
    "plt.hist(data0['Rendimientos AMD'], bins = 20, color = '#27AE60')\n",
    "plt.title('Histogramas de rentabilidades AMD al 95% de confianza',fontsize=15, color = '#2874A6')\n",
    "plt.ylabel('Densidad',fontsize=15, color = '#D4AC0D')\n",
    "plt.xlabel('Rendimientos',fontsize=15,color = '#D4AC0D')\n",
    "plt.axvline(x=cuantil_amd_95, color=\"r\")\n",
    "plt.show()"
   ]
  },
  {
   "cell_type": "code",
   "execution_count": 29,
   "metadata": {
    "colab": {
     "base_uri": "https://localhost:8080/",
     "height": 330
    },
    "executionInfo": {
     "elapsed": 352,
     "status": "ok",
     "timestamp": 1673848093176,
     "user": {
      "displayName": "Max Jiménez Robles",
      "userId": "12421327073560245430"
     },
     "user_tz": 360
    },
    "id": "2gqf56f2HqQ0",
    "outputId": "12e7b3b1-4dec-45d7-f373-9e086090d6dc"
   },
   "outputs": [
    {
     "data": {
      "image/png": "[encoded data removed]",
      "text/plain": [
       "<Figure size 1220x450 with 1 Axes>"
      ]
     },
     "metadata": {},
     "output_type": "display_data"
    }
   ],
   "source": [
    "plt.figure(figsize=(12.2,4.5)) #Largo y acnho del gráfico\n",
    "plt.hist(data0['Rendimientos AMD'], bins = 20, color = '#27AE60')\n",
    "plt.title('Histogramas de rentabilidades AMD al 99% de confianza',fontsize=15, color = '#2874A6')\n",
    "plt.ylabel('Densidad',fontsize=15, color = '#D4AC0D')\n",
    "plt.xlabel('Rendimientos',fontsize=15,color = '#D4AC0D')\n",
    "plt.axvline(x=cuantil_amd_99, color=\"r\")\n",
    "plt.show()"
   ]
  },
  {
   "cell_type": "code",
   "execution_count": 30,
   "metadata": {
    "colab": {
     "base_uri": "https://localhost:8080/"
    },
    "executionInfo": {
     "elapsed": 3,
     "status": "ok",
     "timestamp": 1673848154952,
     "user": {
      "displayName": "Max Jiménez Robles",
      "userId": "12421327073560245430"
     },
     "user_tz": 360
    },
    "id": "NNiOZJHbH1Zz",
    "outputId": "a3c59cd6-204d-4c1a-da3e-67674d240fd7"
   },
   "outputs": [
    {
     "data": {
      "text/plain": [
       "np.float64(-0.522545801429881)"
      ]
     },
     "execution_count": 30,
     "metadata": {},
     "output_type": "execute_result"
    }
   ],
   "source": [
    "data0['Rentabilidades AMD'].min()"
   ]
  },
  {
   "cell_type": "code",
   "execution_count": 31,
   "metadata": {
    "colab": {
     "base_uri": "https://localhost:8080/",
     "height": 330
    },
    "executionInfo": {
     "elapsed": 437,
     "status": "ok",
     "timestamp": 1673848057085,
     "user": {
      "displayName": "Max Jiménez Robles",
      "userId": "12421327073560245430"
     },
     "user_tz": 360
    },
    "id": "MGDt2wNrHQcM",
    "outputId": "9412db08-0eef-44fb-83ff-bf8b95827733"
   },
   "outputs": [
    {
     "data": {
      "image/png": "[encoded data removed]",
      "text/plain": [
       "<Figure size 1220x450 with 1 Axes>"
      ]
     },
     "metadata": {},
     "output_type": "display_data"
    }
   ],
   "source": [
    "plt.figure(figsize=(12.2,4.5)) #Largo y acnho del gráfico\n",
    "plt.hist(data0['Rendimientos XOM'], bins = 50, color = '#27AE60')\n",
    "plt.title('Histogramas de rentabilidades XOM al 95% de confianza',fontsize=15, color = '#2874A6')\n",
    "plt.ylabel('Densidad',fontsize=15, color = '#D4AC0D')\n",
    "plt.xlabel('Rendimientos',fontsize=15,color = '#D4AC0D')\n",
    "plt.axvline(x=cuantil_xom_95, color=\"r\")\n",
    "plt.show()"
   ]
  },
  {
   "cell_type": "code",
   "execution_count": 32,
   "metadata": {
    "colab": {
     "base_uri": "https://localhost:8080/",
     "height": 330
    },
    "executionInfo": {
     "elapsed": 621,
     "status": "ok",
     "timestamp": 1673848306813,
     "user": {
      "displayName": "Max Jiménez Robles",
      "userId": "12421327073560245430"
     },
     "user_tz": 360
    },
    "id": "7iLsJ-BQIheL",
    "outputId": "9d43e2cb-322c-4290-d78e-bf8bb88d4e1d"
   },
   "outputs": [
    {
     "data": {
      "image/png": "[encoded data removed]",
      "text/plain": [
       "<Figure size 1220x450 with 1 Axes>"
      ]
     },
     "metadata": {},
     "output_type": "display_data"
    }
   ],
   "source": [
    "plt.figure(figsize=(12.2,4.5)) #Largo y acnho del gráfico\n",
    "plt.hist(data0['Rendimientos XOM'], bins = 50, color = '#27AE60')\n",
    "plt.title('Histogramas de rentabilidades XOM al 99% de confianza',fontsize=15, color = '#2874A6')\n",
    "plt.ylabel('Densidad',fontsize=15, color = '#D4AC0D')\n",
    "plt.xlabel('Rendimientos',fontsize=15,color = '#D4AC0D')\n",
    "plt.axvline(x=cuantil_xom_99, color=\"r\")\n",
    "plt.show()"
   ]
  },
  {
   "cell_type": "code",
   "execution_count": 33,
   "metadata": {
    "colab": {
     "base_uri": "https://localhost:8080/"
    },
    "executionInfo": {
     "elapsed": 127,
     "status": "ok",
     "timestamp": 1673848383434,
     "user": {
      "displayName": "Max Jiménez Robles",
      "userId": "12421327073560245430"
     },
     "user_tz": 360
    },
    "id": "49ZRFDoS2ixh",
    "outputId": "722daf02-5e95-4b6b-8e96-381dca8b1425"
   },
   "outputs": [
    {
     "name": "stdout",
     "output_type": "stream",
     "text": [
      "El VaR Histórico de AMD nos dice que existe un 5% de probabilidad de perder al menos: 0.2 millones de USD, y un 95% de que la pérdida sea menor a eso.\n",
      "El VaR Histórico de XOM al 95% es -0.05 millones de USD\n",
      "El VaR Histórico de AMD al 99% es -0.32 millones de USD\n",
      "El VaR Histórico de XOM nos dice que existe un 1% de probabilidad de perder al menos: 0.08 millones de USD, y un 99% de que la pérdida sea menor a eso\n"
     ]
    }
   ],
   "source": [
    "#Calculamos el VaR Histórico al 95% de confianza\n",
    "print(\"El VaR Histórico de AMD nos dice que existe un 5% de probabilidad de perder al menos:\", \n",
    "      round(cuantil_amd_95, 2)*-1, \"millones de USD, y un 95% de que la pérdida sea menor a eso.\")\n",
    "print(\"El VaR Histórico de XOM al 95% es\", \n",
    "      round(cuantil_xom_95, 2), \"millones de USD\")\n",
    "\n",
    "#Calculamos el VaR Histórico al 99% de confianza\n",
    "print(\"El VaR Histórico de AMD al 99% es\", \n",
    "      round(cuantil_amd_99, 2), \"millones de USD\")\n",
    "print(\"El VaR Histórico de XOM nos dice que existe un 1% de probabilidad de perder al menos:\", \n",
    "      round(cuantil_xom_99, 2)*-1, \"millones de USD, y un 99% de que la pérdida sea menor a eso\")"
   ]
  },
  {
   "cell_type": "markdown",
   "metadata": {
    "id": "EwVP2xqK21is"
   },
   "source": [
    "# VaR paramétrico\n",
    "El segundo es el método de varianza-covarianza o también conocido como paramétrico. En lugar de asumir que el pasado informará el futuro, este método asume que las ganancias y pérdidas se distribuyen normalmente . De esta forma, las pérdidas potenciales se pueden enmarcar en términos de eventos de desviación estándar de la media.\n",
    "\n",
    "Este enfoque implica la estimación de parámetros en lugar de la simple lectura del cuantil de una distribución empírica (VaR Histórico).\n",
    "\n",
    "Supongamos que las variaciones de un portafolio se distribuyen $X\\sim N(\\mu,\\sigma^2)$, entonces transformándolo en una Normal Estándar nos queda $Z=\\frac{X-\\mu}{\\sigma}\\sim N(0,1)$\n",
    "\n",
    "Sabemos que el VaR satisface la siguiente ecuación:\n",
    "$$\\mathbb{P}(X\\leq VaR)=1-\\alpha$$\n",
    "Entonces,\n",
    "$$\\mathbb{P}(X\\leq VaR)=\\mathbb{P}\\left ( \\frac{X-\\mu}{\\sigma}\\leq\\frac{VaR-\\mu}{\\sigma} \\right )=\\mathbb{P}\\left ( Z\\leq\\frac{VaR-\\mu}{\\sigma} \\right )=\\Phi\\left ( \\frac{VaR-\\mu}{\\sigma} \\right )=1-\\alpha$$\n",
    "$$\\Rightarrow\\frac{VaR-\\mu}{\\sigma}=\\Phi^{-1}(1-\\alpha)$$\n",
    "$$\\Rightarrow VaR=\\sigma*\\Phi^{-1}(1-\\alpha)+\\mu$$"
   ]
  },
  {
   "cell_type": "code",
   "execution_count": 35,
   "metadata": {
    "id": "KRu97sqH2lLo"
   },
   "outputs": [],
   "source": [
    "#Calculamos las medias de las rentabilidades, las mu\n",
    "promedio_amd = data0.mean().iloc[-2]\n",
    "promedio_xom = data0.mean().iloc[-1]\n",
    "\n",
    "#Calculamos las desviaciones estándar de las rentabilidades \n",
    "desvest_amd = data0.std().iloc[-2]\n",
    "desvest_xom = data0.std().iloc[-1]\n",
    "\n",
    "#Calculamos el inverso de la distribución normal estándar  \n",
    "#acumulativa para los niveles de confianza del 95% y 99%\n",
    "#La función norm.ppf() nos ayuda a calcular la función de \n",
    "#distibución acumulativa inversa en q de la razón de verosimilitud dado\n",
    "phi_95 = norm.ppf(0.05)\n",
    "phi_99 = norm.ppf(0.01)\n",
    "\n",
    "#Calculamos el VaR Paramétrico al 95% y 99% de confianza\n",
    "VaR_amd_95 = desvest_amd*phi_95+promedio_amd\n",
    "VaR_xom_95 = desvest_xom*phi_95+promedio_xom\n",
    "VaR_amd_99 = desvest_amd*phi_99+promedio_amd\n",
    "VaR_xom_99 = desvest_xom*phi_99+promedio_xom"
   ]
  },
  {
   "cell_type": "code",
   "execution_count": 36,
   "metadata": {
    "colab": {
     "base_uri": "https://localhost:8080/"
    },
    "executionInfo": {
     "elapsed": 99,
     "status": "ok",
     "timestamp": 1673848446010,
     "user": {
      "displayName": "Max Jiménez Robles",
      "userId": "12421327073560245430"
     },
     "user_tz": 360
    },
    "id": "NVenAU6S2_Gt",
    "outputId": "55efdc3b-6438-4ad8-8f66-4b3fc329051f"
   },
   "outputs": [
    {
     "name": "stdout",
     "output_type": "stream",
     "text": [
      "El VaR Paramétrico de AMD al 95% es -0.21 millones de USD\n",
      "El VaR Paramétrico de XOM al 95% es -0.05 millones de USD\n",
      "El VaR Paramétrico de AMD al 99% es -0.29 millones de USD\n",
      "El VaR Paramétrico de XOM al 99% es -0.07 millones de USD\n"
     ]
    }
   ],
   "source": [
    "#Calculamos el VaR Paramétrico al 95% de confianza\n",
    "print(\"El VaR Paramétrico de AMD al 95% es\", \n",
    "      round(VaR_amd_95, 2), \"millones de USD\")\n",
    "print(\"El VaR Paramétrico de XOM al 95% es\", \n",
    "      round(VaR_xom_95, 2), \"millones de USD\")\n",
    "\n",
    "#Calculamos el VaR Paramétrico al 99% de confianza\n",
    "print(\"El VaR Paramétrico de AMD al 99% es\", \n",
    "      round(VaR_amd_99, 2), \"millones de USD\")\n",
    "print(\"El VaR Paramétrico de XOM al 99% es\", \n",
    "      round(VaR_xom_99, 2), \"millones de USD\")"
   ]
  },
  {
   "cell_type": "markdown",
   "metadata": {
    "id": "_jaljxM8DZx_"
   },
   "source": [
    "# LIMITACIONES DEL VaR\n",
    "1. Suposición de normalidad es inadecuada para la medición de riesgo en las colas de la distribución. En un mercado heterocedástico, la varianza no es un múltiplo del horizonte temporal y, por ejemplo, la varianza semanal no tiene relación con la varianza diaria.\n",
    "2.  Riesgo de liquidez: El VaR no tiene en cuenta que el riego de liquidez puede ser el mayor riesgo en algunos mercados. Es por eso que deben escoger activos con mucho volúmen.\n",
    "3. Cambio de parámetros en momentos de tensión: Tanto la diversificación, como la correlación entre activos falla en los momentos de tensión. \n",
    "4. Problema sobre el cálculo de la volatilidad: La volatilidad no es observable, por lo que siempre se hace necesario estimarla.\n",
    "5. Instrumentos no lineales: Los derivados presentan una no linealidad que dificulta el cálculo del VaR. No existe ningún tipo de convención que establezca de que forma se debe calcular el VaR en carteras con estas posiciones.\n"
   ]
  },
  {
   "cell_type": "code",
   "execution_count": null,
   "metadata": {},
   "outputs": [],
   "source": []
  }
 ],
 "metadata": {
  "colab": {
   "authorship_tag": "ABX9TyOCncDQch1DG+DSkS47E5As",
   "provenance": []
  },
  "kernelspec": {
   "display_name": "Python 3 (ipykernel)",
   "language": "python",
   "name": "python3"
  },
  "language_info": {
   "codemirror_mode": {
    "name": "ipython",
    "version": 3
   },
   "file_extension": ".py",
   "mimetype": "text/x-python",
   "name": "python",
   "nbconvert_exporter": "python",
   "pygments_lexer": "ipython3",
   "version": "3.10.18"
  }
 },
 "nbformat": 4,
 "nbformat_minor": 4
}
