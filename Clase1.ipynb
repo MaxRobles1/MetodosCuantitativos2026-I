{
 "cells": [
  {
   "cell_type": "markdown",
   "id": "31a36586",
   "metadata": {},
   "source": [
    "# Tipos de datos"
   ]
  },
  {
   "cell_type": "markdown",
   "id": "995d0d4c",
   "metadata": {},
   "source": [
    "## Entendimiento de String"
   ]
  },
  {
   "cell_type": "code",
   "execution_count": 1,
   "id": "74cf569c",
   "metadata": {},
   "outputs": [
    {
     "name": "stdout",
     "output_type": "stream",
     "text": [
      "Hola mundo\n"
     ]
    }
   ],
   "source": [
    "print(\"Hola mundo\")"
   ]
  },
  {
   "cell_type": "markdown",
   "id": "870718bf",
   "metadata": {},
   "source": [
    "Este que vemos aquí es un tipo de dato string."
   ]
  },
  {
   "cell_type": "code",
   "execution_count": 2,
   "id": "72a7fdfe",
   "metadata": {},
   "outputs": [
    {
     "data": {
      "text/plain": [
       "'Hola mundo'"
      ]
     },
     "execution_count": 2,
     "metadata": {},
     "output_type": "execute_result"
    }
   ],
   "source": [
    "\"Hola mundo\""
   ]
  },
  {
   "cell_type": "code",
   "execution_count": 3,
   "id": "27777846",
   "metadata": {},
   "outputs": [
    {
     "name": "stdout",
     "output_type": "stream",
     "text": [
      "20\n",
      "5*4\n"
     ]
    }
   ],
   "source": [
    "print(5*4)\n",
    "\n",
    "print(\"5*4\")"
   ]
  },
  {
   "cell_type": "markdown",
   "id": "7c185cd3",
   "metadata": {},
   "source": [
    "Observemos que este tipo de estructura nos devuelve un resultado diferente, esto se debe a que son sitintos tipo de datos."
   ]
  },
  {
   "cell_type": "code",
   "execution_count": 4,
   "id": "9648c057",
   "metadata": {},
   "outputs": [
    {
     "name": "stdout",
     "output_type": "stream",
     "text": [
      "\"Hola a todos\",soy Max\n"
     ]
    }
   ],
   "source": [
    "print('\"Hola a todos\",soy Max')"
   ]
  },
  {
   "cell_type": "markdown",
   "id": "8c15aff2",
   "metadata": {},
   "source": [
    "También observemos que podemos resaltar algún comentario dentro de un string."
   ]
  },
  {
   "cell_type": "markdown",
   "id": "c193d3a6",
   "metadata": {},
   "source": [
    "## Strings como cadenas de texto"
   ]
  },
  {
   "cell_type": "code",
   "execution_count": 5,
   "id": "e0c32dc2",
   "metadata": {},
   "outputs": [
    {
     "name": "stdout",
     "output_type": "stream",
     "text": [
      "Holamundo\n",
      "Hola mundo\n",
      "Hola mundo\n"
     ]
    }
   ],
   "source": [
    "print(\"Hola\"+\"mundo\") #esta línea imprime holamundo junto\n",
    "print(\"Hola\"+' mundo') #esta no\n",
    "print(\"Hola\" + ' ' +'mundo')"
   ]
  },
  {
   "cell_type": "code",
   "execution_count": 6,
   "id": "0adce164",
   "metadata": {},
   "outputs": [
    {
     "name": "stdout",
     "output_type": "stream",
     "text": [
      "\tHola\n",
      "Hola mundo \n",
      "Hola mundo de nuevo\n"
     ]
    }
   ],
   "source": [
    "print(\"\\tHola\") # la diagonal inverta + t, se usa como especie de sangría\n",
    "print(\"Hola mundo \\nHola mundo de nuevo\") # Mientras que \\n se usa como salto de línea"
   ]
  },
  {
   "cell_type": "code",
   "execution_count": 7,
   "id": "396f7f25",
   "metadata": {},
   "outputs": [
    {
     "name": "stdout",
     "output_type": "stream",
     "text": [
      "HOLA\n",
      "\tSOY\n",
      "\t\tMAX\n",
      "HOLA\tSOY\t\tMAX\n"
     ]
    }
   ],
   "source": [
    "print(\"HOLA\\n\\tSOY\\n\\t\\tMAX\")\n",
    "\n",
    "print(\"HOLA\\tSOY\\t\\tMAX\")"
   ]
  },
  {
   "cell_type": "markdown",
   "id": "d34ea571",
   "metadata": {},
   "source": [
    "## Tipo de dato de entrada"
   ]
  },
  {
   "cell_type": "code",
   "execution_count": 8,
   "id": "8ce79578",
   "metadata": {},
   "outputs": [
    {
     "name": "stdout",
     "output_type": "stream",
     "text": [
      "Dime tu nombre: Max\n"
     ]
    },
    {
     "data": {
      "text/plain": [
       "'Max'"
      ]
     },
     "execution_count": 8,
     "metadata": {},
     "output_type": "execute_result"
    }
   ],
   "source": [
    "#Función input\n",
    "input(\"Dime tu nombre: \")"
   ]
  },
  {
   "cell_type": "code",
   "execution_count": 9,
   "id": "e7860674",
   "metadata": {},
   "outputs": [
    {
     "name": "stdout",
     "output_type": "stream",
     "text": [
      "Dime tu nombre: Max\n",
      "Max\n"
     ]
    }
   ],
   "source": [
    "print(input(\"Dime tu nombre: \"))"
   ]
  },
  {
   "cell_type": "markdown",
   "id": "e24b11ad",
   "metadata": {},
   "source": [
    "Observemos una diferencia sutil entre estas 2 líneas de código. La diferencia es que en el primer caso se ve la representación del objeto, mientras que en el segundo se ve la salida de la consola."
   ]
  },
  {
   "cell_type": "code",
   "execution_count": 11,
   "id": "e468102b",
   "metadata": {},
   "outputs": [
    {
     "name": "stdout",
     "output_type": "stream",
     "text": [
      "Dime tu nombre: Max\n",
      "¿Qué carrera estudias?Actuaría\n",
      "Tu nombre es Max y estudias Actuaría\n"
     ]
    }
   ],
   "source": [
    "print(\"Tu nombre es \" + input(\"Dime tu nombre: \")+ \" \" + \"y estudias \" +input(\"¿Qué carrera estudias?\"))"
   ]
  },
  {
   "cell_type": "code",
   "execution_count": 12,
   "id": "a80fdc01",
   "metadata": {},
   "outputs": [
    {
     "data": {
      "text/plain": [
       "'\\nPedir información a un usuario que te diga:\\n    nombre\\n    carrera\\n    semestre\\n    edad\\n\\n Soy Max, estudio actauria en el 5 semestre y tengo 22 años\\n'"
      ]
     },
     "execution_count": 12,
     "metadata": {},
     "output_type": "execute_result"
    }
   ],
   "source": [
    "#Ejercicio1:\n",
    "\n",
    "'''\n",
    "Pedir información a un usuario que te diga:\n",
    "    nombre\n",
    "    carrera\n",
    "    semestre\n",
    "    edad\n",
    "\n",
    " Soy Max, estudio actauria en el 5 semestre y tengo 22 años\n",
    "'''\n"
   ]
  },
  {
   "cell_type": "code",
   "execution_count": 14,
   "id": "44c7b264",
   "metadata": {},
   "outputs": [
    {
     "name": "stdout",
     "output_type": "stream",
     "text": [
      "Dime tu nombreMax\n",
      "Dime tu carreraActuaría\n",
      "En qué semestre vas5\n",
      "Dime tu edad22\n",
      "Soy Max,estudio Actuaría en el 5 semestre y tengo 22años\n"
     ]
    }
   ],
   "source": [
    "print(\"Soy \"+input(\"Dime tu nombre\")+ \",estudio \" + input(\"Dime tu carrera\")+\" en el \"+input(\"En qué semestre vas\")+\" semestre y tengo \" + input(\"Dime tu edad\")+\" años\")"
   ]
  },
  {
   "cell_type": "markdown",
   "id": "84d9cd5d",
   "metadata": {},
   "source": [
    "## String"
   ]
  },
  {
   "cell_type": "code",
   "execution_count": 15,
   "id": "dcc31048",
   "metadata": {},
   "outputs": [
    {
     "name": "stdout",
     "output_type": "stream",
     "text": [
      "Hola Mundo\n"
     ]
    }
   ],
   "source": [
    "#string\n",
    "nombre_variale = \"Hola Mundo\"\n",
    "print(nombre_variale)"
   ]
  },
  {
   "cell_type": "code",
   "execution_count": 16,
   "id": "c955bc75",
   "metadata": {},
   "outputs": [
    {
     "name": "stdout",
     "output_type": "stream",
     "text": [
      "Hola a todos\n"
     ]
    }
   ],
   "source": [
    "saludo = 'Hola a todos'\n",
    "print(saludo)"
   ]
  },
  {
   "cell_type": "markdown",
   "id": "46a7dea0",
   "metadata": {},
   "source": [
    "## Integer"
   ]
  },
  {
   "cell_type": "code",
   "execution_count": 18,
   "id": "0f88736f",
   "metadata": {},
   "outputs": [],
   "source": [
    "#int\n",
    "numero = 8"
   ]
  },
  {
   "cell_type": "code",
   "execution_count": 19,
   "id": "b14fa77b",
   "metadata": {},
   "outputs": [
    {
     "data": {
      "text/plain": [
       "60"
      ]
     },
     "execution_count": 19,
     "metadata": {},
     "output_type": "execute_result"
    }
   ],
   "source": [
    "numero2 = 60\n",
    "numero2"
   ]
  },
  {
   "cell_type": "code",
   "execution_count": 20,
   "id": "489b6899",
   "metadata": {},
   "outputs": [
    {
     "name": "stdout",
     "output_type": "stream",
     "text": [
      "8\n"
     ]
    }
   ],
   "source": [
    "print(numero)"
   ]
  },
  {
   "cell_type": "markdown",
   "id": "dba88190",
   "metadata": {},
   "source": [
    "Intuitivamente sabemos con qué dato estamos trabajando por lo antes viste, pero para saber con certeza podemos usar la función **type** que nos dice el tipo de dato de la variable."
   ]
  },
  {
   "cell_type": "code",
   "execution_count": 21,
   "id": "c4978ce9",
   "metadata": {},
   "outputs": [],
   "source": [
    "palabra = 'Hola'"
   ]
  },
  {
   "cell_type": "code",
   "execution_count": 22,
   "id": "da3baf68",
   "metadata": {},
   "outputs": [
    {
     "data": {
      "text/plain": [
       "int"
      ]
     },
     "execution_count": 22,
     "metadata": {},
     "output_type": "execute_result"
    }
   ],
   "source": [
    "type(numero)"
   ]
  },
  {
   "cell_type": "code",
   "execution_count": 25,
   "id": "8d8225f8",
   "metadata": {},
   "outputs": [
    {
     "data": {
      "text/plain": [
       "int"
      ]
     },
     "execution_count": 25,
     "metadata": {},
     "output_type": "execute_result"
    }
   ],
   "source": [
    "type(numero2)"
   ]
  },
  {
   "cell_type": "code",
   "execution_count": 26,
   "id": "b49fefae",
   "metadata": {},
   "outputs": [
    {
     "data": {
      "text/plain": [
       "str"
      ]
     },
     "execution_count": 26,
     "metadata": {},
     "output_type": "execute_result"
    }
   ],
   "source": [
    "type(palabra)"
   ]
  },
  {
   "cell_type": "markdown",
   "id": "80b773b3",
   "metadata": {},
   "source": [
    "También podemos hacer operaciones sobre los tipos de datos: "
   ]
  },
  {
   "cell_type": "code",
   "execution_count": 27,
   "id": "fd9e99d9",
   "metadata": {},
   "outputs": [
    {
     "name": "stdout",
     "output_type": "stream",
     "text": [
      "80\n"
     ]
    }
   ],
   "source": [
    "edad = 22\n",
    "\n",
    "edad2 = 58\n",
    "\n",
    "edad_suma = edad+edad2\n",
    "\n",
    "print(edad + edad2)"
   ]
  },
  {
   "cell_type": "code",
   "execution_count": 28,
   "id": "533e1ab1",
   "metadata": {},
   "outputs": [
    {
     "name": "stdout",
     "output_type": "stream",
     "text": [
      "<class 'int'>\n"
     ]
    }
   ],
   "source": [
    "print(type(edad_suma))"
   ]
  },
  {
   "cell_type": "markdown",
   "id": "d70d6ba7",
   "metadata": {},
   "source": [
    "## Flotante"
   ]
  },
  {
   "cell_type": "code",
   "execution_count": 29,
   "id": "46eedfcb",
   "metadata": {},
   "outputs": [],
   "source": [
    "#flotante\n",
    "\n",
    "edad = 21\n",
    "\n",
    "edad2 = 22.8"
   ]
  },
  {
   "cell_type": "code",
   "execution_count": 30,
   "id": "92d4bc8c",
   "metadata": {},
   "outputs": [
    {
     "data": {
      "text/plain": [
       "int"
      ]
     },
     "execution_count": 30,
     "metadata": {},
     "output_type": "execute_result"
    }
   ],
   "source": [
    "type(edad)"
   ]
  },
  {
   "cell_type": "code",
   "execution_count": 31,
   "id": "9d3116eb",
   "metadata": {},
   "outputs": [
    {
     "data": {
      "text/plain": [
       "float"
      ]
     },
     "execution_count": 31,
     "metadata": {},
     "output_type": "execute_result"
    }
   ],
   "source": [
    "type(edad2)"
   ]
  },
  {
   "cell_type": "code",
   "execution_count": 32,
   "id": "3cffec47",
   "metadata": {},
   "outputs": [],
   "source": [
    "edad_suma = edad+edad2"
   ]
  },
  {
   "cell_type": "code",
   "execution_count": 33,
   "id": "67a4f6e8",
   "metadata": {},
   "outputs": [
    {
     "name": "stdout",
     "output_type": "stream",
     "text": [
      "<class 'float'>\n"
     ]
    }
   ],
   "source": [
    "print(type(edad_suma))"
   ]
  },
  {
   "cell_type": "markdown",
   "id": "b6277135",
   "metadata": {},
   "source": [
    "Cualquier suma donde intervenga un tipo de dato flotante nos arrojará una salida de tipo flotante"
   ]
  },
  {
   "cell_type": "code",
   "execution_count": 34,
   "id": "82e5de8e",
   "metadata": {},
   "outputs": [
    {
     "name": "stdout",
     "output_type": "stream",
     "text": [
      "¿Cuál es tu edad?: 22\n",
      "Tu edad es 22\n"
     ]
    }
   ],
   "source": [
    "edad = input(\"¿Cuál es tu edad?: \")\n",
    "print('Tu edad es '+edad)"
   ]
  },
  {
   "cell_type": "code",
   "execution_count": 35,
   "id": "ff018335",
   "metadata": {},
   "outputs": [
    {
     "data": {
      "text/plain": [
       "str"
      ]
     },
     "execution_count": 35,
     "metadata": {},
     "output_type": "execute_result"
    }
   ],
   "source": [
    "type(edad)"
   ]
  },
  {
   "cell_type": "markdown",
   "id": "fcf3b0b8",
   "metadata": {},
   "source": [
    "Cuando programamos en python, las entradas que obtenemos con la función input siempre serán de tipo texto, esto dato que internamente python lo reduce al tipo de dato de mayor facilidad computacional. "
   ]
  },
  {
   "cell_type": "markdown",
   "id": "2da53c0b",
   "metadata": {},
   "source": [
    "## Casteo"
   ]
  },
  {
   "cell_type": "markdown",
   "id": "a41bdeb0",
   "metadata": {},
   "source": [
    "El casteo es cambiar de tipo de dato, esto es muy común cuando quieres homologar resultados y en el tratamiento de datos"
   ]
  },
  {
   "cell_type": "code",
   "execution_count": 36,
   "id": "d8d0cd0d",
   "metadata": {},
   "outputs": [],
   "source": [
    "#Casteo\n",
    "num1 = 5\n",
    "num2 = 30.8"
   ]
  },
  {
   "cell_type": "code",
   "execution_count": 37,
   "id": "07b05c88",
   "metadata": {},
   "outputs": [
    {
     "name": "stdout",
     "output_type": "stream",
     "text": [
      "35.8\n"
     ]
    }
   ],
   "source": [
    "num3=num1+num2\n",
    "print(num3)"
   ]
  },
  {
   "cell_type": "code",
   "execution_count": 38,
   "id": "4e13be5a",
   "metadata": {},
   "outputs": [
    {
     "data": {
      "text/plain": [
       "float"
      ]
     },
     "execution_count": 38,
     "metadata": {},
     "output_type": "execute_result"
    }
   ],
   "source": [
    "type(num3)"
   ]
  },
  {
   "cell_type": "code",
   "execution_count": 39,
   "id": "169bf3c8",
   "metadata": {},
   "outputs": [],
   "source": [
    "num4 = int(num3)"
   ]
  },
  {
   "cell_type": "code",
   "execution_count": 40,
   "id": "42dba995",
   "metadata": {},
   "outputs": [
    {
     "data": {
      "text/plain": [
       "int"
      ]
     },
     "execution_count": 40,
     "metadata": {},
     "output_type": "execute_result"
    }
   ],
   "source": [
    "type(num4)"
   ]
  },
  {
   "cell_type": "markdown",
   "id": "b4ceccab",
   "metadata": {},
   "source": [
    "Ahora nos arroja un tipo de dato entero dado nuestro casteo: float --> int"
   ]
  },
  {
   "cell_type": "code",
   "execution_count": 41,
   "id": "2f851f33",
   "metadata": {},
   "outputs": [
    {
     "name": "stdout",
     "output_type": "stream",
     "text": [
      "35\n"
     ]
    }
   ],
   "source": [
    "print(num4)"
   ]
  },
  {
   "cell_type": "code",
   "execution_count": 42,
   "id": "b44ceadb",
   "metadata": {},
   "outputs": [
    {
     "name": "stdout",
     "output_type": "stream",
     "text": [
      "5.0\n"
     ]
    }
   ],
   "source": [
    "num1 = 5\n",
    "num2 = float(num1)\n",
    "print(num2)"
   ]
  },
  {
   "cell_type": "markdown",
   "id": "4836b2d4",
   "metadata": {},
   "source": [
    "También podemos hacerlo en el sentido contrario. El casteo solo se puede hacer cuando los tipos de datos sean compatibles"
   ]
  },
  {
   "cell_type": "code",
   "execution_count": 43,
   "id": "c363101b",
   "metadata": {},
   "outputs": [
    {
     "name": "stdout",
     "output_type": "stream",
     "text": [
      "Dame tu edad: 22\n",
      "23\n"
     ]
    }
   ],
   "source": [
    "edad = input(\"Dame tu edad: \")\n",
    "edad = int(edad)\n",
    "print(edad + 1)"
   ]
  },
  {
   "cell_type": "markdown",
   "id": "f12a9318",
   "metadata": {},
   "source": [
    "Por ejemplo, recordemos que en un input nos devuelve un tipo de dato string, esto para que no nos arroge un error podrías castear ese resultado y ocuparlo para algún tipo de análisis. "
   ]
  },
  {
   "cell_type": "code",
   "execution_count": 44,
   "id": "a458cb5d",
   "metadata": {},
   "outputs": [
    {
     "name": "stdout",
     "output_type": "stream",
     "text": [
      "Dame tu edad: \n",
      "Dame tu edad: 22\n",
      "110\n"
     ]
    }
   ],
   "source": [
    "#Es de tipo nonetype\n",
    "print(\"Dame tu edad: \")\n",
    "\n",
    "edad = int(input(\"Dame tu edad: \"))\n",
    "print(edad*5)"
   ]
  },
  {
   "cell_type": "markdown",
   "id": "6943524c",
   "metadata": {},
   "source": [
    "## Formato de cadenas"
   ]
  },
  {
   "cell_type": "code",
   "execution_count": 45,
   "id": "d6006062",
   "metadata": {},
   "outputs": [],
   "source": [
    "#Formateo de cadenas\n",
    "\n",
    "x = 22\n",
    "y = 72"
   ]
  },
  {
   "cell_type": "code",
   "execution_count": 46,
   "id": "013fa468",
   "metadata": {},
   "outputs": [
    {
     "ename": "TypeError",
     "evalue": "can only concatenate str (not \"int\") to str",
     "output_type": "error",
     "traceback": [
      "\u001b[1;31m---------------------------------------------------------------------------\u001b[0m",
      "\u001b[1;31mTypeError\u001b[0m                                 Traceback (most recent call last)",
      "\u001b[1;32m~\\AppData\\Local\\Temp\\ipykernel_10984\\1935389115.py\u001b[0m in \u001b[0;36m<module>\u001b[1;34m\u001b[0m\n\u001b[1;32m----> 1\u001b[1;33m \u001b[0mprint\u001b[0m\u001b[1;33m(\u001b[0m\u001b[1;34m'Mi edad es '\u001b[0m \u001b[1;33m+\u001b[0m \u001b[0mx\u001b[0m \u001b[1;33m+\u001b[0m \u001b[1;34m'y mi peso es '\u001b[0m \u001b[1;33m+\u001b[0m \u001b[0my\u001b[0m \u001b[1;33m+\u001b[0m \u001b[1;34m'kilogramos'\u001b[0m\u001b[1;33m)\u001b[0m\u001b[1;33m\u001b[0m\u001b[1;33m\u001b[0m\u001b[0m\n\u001b[0m",
      "\u001b[1;31mTypeError\u001b[0m: can only concatenate str (not \"int\") to str"
     ]
    }
   ],
   "source": [
    "print('Mi edad es ' + x + 'y mi peso es ' + y + 'kilogramos')"
   ]
  },
  {
   "cell_type": "markdown",
   "id": "fd1ada45",
   "metadata": {},
   "source": [
    "Este tipo de error es muy común en nuestros inicios programando en python. El error se centra en las variables son de tipo entero, pero debemos tenerlo en tipo string para poder formatearlo en una cadena."
   ]
  },
  {
   "cell_type": "code",
   "execution_count": 47,
   "id": "ffda4c56",
   "metadata": {},
   "outputs": [
    {
     "name": "stdout",
     "output_type": "stream",
     "text": [
      "Mi edad es 22y mi peso es 72kilogramos\n"
     ]
    }
   ],
   "source": [
    "print('Mi edad es ' + str(x) + ' y mi peso es ' + str(y) + ' kilogramos')"
   ]
  },
  {
   "cell_type": "markdown",
   "id": "4ac1917d",
   "metadata": {},
   "source": [
    "## 1. Función format"
   ]
  },
  {
   "cell_type": "code",
   "execution_count": 48,
   "id": "bd854d03",
   "metadata": {},
   "outputs": [
    {
     "name": "stdout",
     "output_type": "stream",
     "text": [
      "Mis números son: 22 y 72\n",
      "Mis números son: 22 y 72 y la suma de estas dos varibeles es 94\n"
     ]
    }
   ],
   "source": [
    "x = 22\n",
    "y = 72\n",
    "\n",
    "print('Mis números son: {} y {}'.format(x,y))\n",
    "print('Mis números son: {} y {} y la suma de estas dos varibeles es {}'.format(x,y,x+y))"
   ]
  },
  {
   "cell_type": "markdown",
   "id": "ba790e9a",
   "metadata": {},
   "source": [
    "## 2. Cadenas literales"
   ]
  },
  {
   "cell_type": "code",
   "execution_count": 50,
   "id": "624c3d79",
   "metadata": {},
   "outputs": [
    {
     "name": "stdout",
     "output_type": "stream",
     "text": [
      "Mi acción AMD tiene un precio de 95\n"
     ]
    }
   ],
   "source": [
    "#2.-Cadenas literales\n",
    "accion = 'AMD'\n",
    "precio = 95\n",
    "\n",
    "print(f'Mi acción {accion} tiene un precio de {precio}')"
   ]
  },
  {
   "cell_type": "code",
   "execution_count": 53,
   "id": "4d107dc7",
   "metadata": {},
   "outputs": [
    {
     "name": "stdout",
     "output_type": "stream",
     "text": [
      "¿Nombre del usuario?Max\n",
      "¿En que facultad estudias?Ciencias\n",
      "¿En que semestre estás?5\n",
      "\n",
      "\n",
      "Hola, soy Max y estudio en la facultad de Ciencias.\n",
      "Estoy cursando el 5 semestre\n",
      "\n",
      "\n",
      "Hola, soy Max y estudio en la facultad de Ciencias.\n",
      "Estoy cursando el 5 semestre\n"
     ]
    }
   ],
   "source": [
    "#Ejercicio\n",
    "'''\n",
    "Imprimir una cadena literal y una usando la función de formato que contenga \n",
    "al menos 3 variables, una que pida el nombre del usuario, otra que pida en qué\n",
    "facultad estuadias y la última en que semestre estás.\n",
    "Deberá tener un salto de línea cuando se diga en qué semestre está, por ejemplo:\n",
    "    Hola, soy Max y estudio en la facultad de ciencias.\n",
    "    Estoy cursando el primer semestre.\n",
    "'''\n",
    "\n",
    "A=input(\"¿Nombre del usuario?\")\n",
    "B=input(\"¿En que facultad estudias?\")\n",
    "C=input(\"¿En que semestre estás?\")\n",
    "\n",
    "print('\\n')\n",
    "print( \"Hola, soy {} y estudio en la facultad de {}.\\nEstoy cursando el {} semestre\".format(A,B,C))\n",
    "print('\\n')\n",
    "print(f\"Hola, soy {A} y estudio en la facultad de {B}.\\nEstoy cursando el {C} semestre\")"
   ]
  },
  {
   "cell_type": "markdown",
   "id": "95966988",
   "metadata": {},
   "source": [
    "## Operadores matemáticos"
   ]
  },
  {
   "cell_type": "code",
   "execution_count": 54,
   "id": "ead7ca7d",
   "metadata": {},
   "outputs": [
    {
     "name": "stdout",
     "output_type": "stream",
     "text": [
      "10 más 5 es igual a 15\n",
      "10 menos 5 es igual a 5\n",
      "10 por 5 es igual a 50\n",
      "10 dividido 5 es igual a 2.0\n",
      "10 división entera 5 es igual a 2\n",
      "10 modulo 5 es igual a 0\n",
      "10 a la potencia 5 es igual a 100000\n",
      "La raíz cuadrada de 10 es 3.1622776601683795\n"
     ]
    }
   ],
   "source": [
    "x = 10\n",
    "y = 5\n",
    "\n",
    "print(f'{x} más {y} es igual a {x+y}')\n",
    "\n",
    "print(f'{x} menos {y} es igual a {x-y}')\n",
    "\n",
    "print(f'{x} por {y} es igual a {x*y}')\n",
    "\n",
    "print(f'{x} dividido {y} es igual a {x/y}')\n",
    "\n",
    "print(f'{x} división entera {y} es igual a {x//y}')\n",
    "\n",
    "print(f'{x} modulo {y} es igual a {x%y}')\n",
    "\n",
    "print(f'{x} a la potencia {y} es igual a {x**y}')\n",
    "\n",
    "print(f'La raíz cuadrada de {x} es {x**0.5}')"
   ]
  },
  {
   "cell_type": "markdown",
   "id": "7999650d",
   "metadata": {},
   "source": [
    "## Redondeo"
   ]
  },
  {
   "cell_type": "code",
   "execution_count": 55,
   "id": "248125f3",
   "metadata": {},
   "outputs": [
    {
     "data": {
      "text/plain": [
       "3.162"
      ]
     },
     "execution_count": 55,
     "metadata": {},
     "output_type": "execute_result"
    }
   ],
   "source": [
    "round(3.1622776601683795,3)"
   ]
  },
  {
   "cell_type": "code",
   "execution_count": 56,
   "id": "7975171d",
   "metadata": {},
   "outputs": [
    {
     "name": "stdout",
     "output_type": "stream",
     "text": [
      "44\n",
      "43.54\n"
     ]
    }
   ],
   "source": [
    "valor = 43.53632\n",
    "\n",
    "print(round(valor))\n",
    "print(round(valor,2))"
   ]
  },
  {
   "cell_type": "code",
   "execution_count": 57,
   "id": "5d6acbdb",
   "metadata": {},
   "outputs": [
    {
     "data": {
      "text/plain": [
       "'\\nCalcula la raíz cuadrad de 5, y muestra en pantalla\\nel resultado redodneado a 3 décimas\\n'"
      ]
     },
     "execution_count": 57,
     "metadata": {},
     "output_type": "execute_result"
    }
   ],
   "source": [
    "#Ejercicio\n",
    "'''\n",
    "Calcula la raíz cuadrad de 5, y muestra en pantalla\n",
    "el resultado redodneado a 3 décimas\n",
    "'''"
   ]
  },
  {
   "cell_type": "code",
   "execution_count": 58,
   "id": "bcb52821",
   "metadata": {},
   "outputs": [
    {
     "name": "stdout",
     "output_type": "stream",
     "text": [
      "La raíz cuadrada de 5 es 2.23606797749979\n"
     ]
    },
    {
     "data": {
      "text/plain": [
       "2.236"
      ]
     },
     "execution_count": 58,
     "metadata": {},
     "output_type": "execute_result"
    }
   ],
   "source": [
    "x = 5\n",
    "print(f\"La raíz cuadrada de {x} es {x**0.5}\")\n",
    "round(2.23606797749979,3)"
   ]
  },
  {
   "cell_type": "code",
   "execution_count": 59,
   "id": "2b68a5df",
   "metadata": {},
   "outputs": [
    {
     "name": "stdout",
     "output_type": "stream",
     "text": [
      "2.24\n"
     ]
    }
   ],
   "source": [
    "print(round(5**0.5,2))"
   ]
  },
  {
   "cell_type": "code",
   "execution_count": 60,
   "id": "feb90512",
   "metadata": {},
   "outputs": [
    {
     "name": "stdout",
     "output_type": "stream",
     "text": [
      "13\n",
      "13\n",
      "13.0\n"
     ]
    }
   ],
   "source": [
    "num1 = 13.25\n",
    "\n",
    "print(round(num1))\n",
    "\n",
    "print(int(num1))\n",
    "\n",
    "print(round(num1,0))"
   ]
  },
  {
   "cell_type": "code",
   "execution_count": null,
   "id": "ca13f561",
   "metadata": {},
   "outputs": [],
   "source": [
    "#Ejercicio\n",
    "\n",
    "'''\n",
    "Supondremos que usted será el encargado de craer una calculadora\n",
    "de impuestos, este impuesto será la cuota que el empleado se llevará \n",
    "de comisión de todas las ventas que hizo semanalmente:\n",
    "    1-Nombre del empleado\n",
    "    2.-Monto de ventas que hizo semanalmente\n",
    "Tomaremos una comisión del 10% de todas las ventas\n",
    "    3.-El resultado se redondee a dos décimas\n",
    "    4.-Que me imprima un mensaje de cuánto es la comisión que \n",
    "    se lleva el empleado.\n",
    "'''\n",
    "\n",
    "N=input(\"¿Nombre del Empleado?\")\n",
    "M=int(input(\"¿En que monto faculturo en ventas semanalmente?\"))\n",
    "C=round(M*.10,2)\n",
    "print( \"El empleado {} facturo en ventas {}.\\nLa comisión obtenida por ventas de {} es de {}\".format(N,M,N,C))\n",
    "\n",
    "\n",
    "#Solución\n",
    "nombre = input('Hola, ¿Cuál es tu nombre?: ')\n",
    "ventas = input('¿Cuánto vendiste esta semana?: ')\n",
    "comision = round(float(ventas)*.1,2)\n",
    "print(f'Felicidades {nombre}, esta semana has generado ${comision} de comisiones')"
   ]
  }
 ],
 "metadata": {
  "kernelspec": {
   "display_name": "Python 3 (ipykernel)",
   "language": "python",
   "name": "python3"
  },
  "language_info": {
   "codemirror_mode": {
    "name": "ipython",
    "version": 3
   },
   "file_extension": ".py",
   "mimetype": "text/x-python",
   "name": "python",
   "nbconvert_exporter": "python",
   "pygments_lexer": "ipython3",
   "version": "3.11.7"
  }
 },
 "nbformat": 4,
 "nbformat_minor": 5
}
