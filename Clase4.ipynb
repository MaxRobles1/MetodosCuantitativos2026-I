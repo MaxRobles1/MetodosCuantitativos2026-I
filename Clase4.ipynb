{
 "cells": [
  {
   "cell_type": "markdown",
   "id": "32c92aee-78f4-4f21-98fd-a5d4a8f95bfc",
   "metadata": {},
   "source": [
    "# Control de Flujo"
   ]
  },
  {
   "cell_type": "code",
   "execution_count": null,
   "id": "5e85f849-9473-4613-99b4-f642484c58d3",
   "metadata": {},
   "outputs": [],
   "source": [
    "# Definición\n",
    "\"\"\"\n",
    "if variable1 >= variable2:\n",
    "    ''cuerpo''\n",
    "\n",
    "\"\"\""
   ]
  },
  {
   "cell_type": "code",
   "execution_count": 1,
   "id": "84b3a495-c99e-4239-9316-c354da06e55c",
   "metadata": {},
   "outputs": [
    {
     "name": "stdout",
     "output_type": "stream",
     "text": [
      "10 es mayor que 9\n"
     ]
    }
   ],
   "source": [
    "if 10 > 9:\n",
    "    print('10 es mayor que 9')\n"
   ]
  },
  {
   "cell_type": "code",
   "execution_count": 3,
   "id": "64a4faef-3114-4d6d-a9b4-5423c4780450",
   "metadata": {},
   "outputs": [],
   "source": [
    "if 8 > 9:\n",
    "    print('8 es mayor que 9')"
   ]
  },
  {
   "cell_type": "code",
   "execution_count": 5,
   "id": "f0df32c2-ab68-429c-bd82-567500f523da",
   "metadata": {},
   "outputs": [
    {
     "name": "stdout",
     "output_type": "stream",
     "text": [
      "8 es menor que 9\n"
     ]
    }
   ],
   "source": [
    "if 8 > 9:\n",
    "    print('8 es mayor que 9')\n",
    "else: \n",
    "    print('8 es menor que 9')"
   ]
  },
  {
   "cell_type": "code",
   "execution_count": 7,
   "id": "b9e37491-98f8-4f78-b5c7-96862cc0e6d0",
   "metadata": {},
   "outputs": [
    {
     "name": "stdout",
     "output_type": "stream",
     "text": [
      "AMC está subvaluado\n"
     ]
    }
   ],
   "source": [
    "AMC = 89\n",
    "\n",
    "if AMC > 90:\n",
    "    print('AMC está sobrevaluada')\n",
    "else:\n",
    "    print('AMC está subvaluado')"
   ]
  },
  {
   "cell_type": "code",
   "execution_count": 9,
   "id": "d6b9d960-e2bd-4e19-bb15-6a1407682e3d",
   "metadata": {},
   "outputs": [
    {
     "name": "stdout",
     "output_type": "stream",
     "text": [
      "TSLA está a un buen precio\n"
     ]
    }
   ],
   "source": [
    "#Para casos extras\n",
    "\n",
    "TSLA = 200\n",
    "if TSLA > 200:\n",
    "    print('TSLA está sobrevaluado')\n",
    "elif TSLA == 200:\n",
    "    print('TSLA está a un buen precio')\n",
    "else:\n",
    "    print('TSLA está subvaluado')"
   ]
  },
  {
   "cell_type": "code",
   "execution_count": 11,
   "id": "308360cf-37ee-46fb-89b0-e48c5c1f69a5",
   "metadata": {},
   "outputs": [
    {
     "name": "stdout",
     "output_type": "stream",
     "text": [
      "AMC está en un buen precio\n",
      "Tiene un buen volumen, compremos\n"
     ]
    }
   ],
   "source": [
    "#Anidados de condiciones if\n",
    "AMC = 90\n",
    "volumen = 5000000\n",
    "\n",
    "if AMC > 90:\n",
    "    print('AMC está sobrevaluado')\n",
    "elif AMC == 90:\n",
    "    print('AMC está en un buen precio')\n",
    "    if volumen > 50000:\n",
    "        print('Tiene un buen volumen, compremos')\n",
    "    else:\n",
    "        print('Tiene un volumen bajo, no compremos')\n",
    "else:\n",
    "    print('AMC está subvaluda')"
   ]
  },
  {
   "cell_type": "code",
   "execution_count": null,
   "id": "1938de16-efc4-4c3d-a05f-45107cf47335",
   "metadata": {},
   "outputs": [],
   "source": [
    "#Ejercicio \n",
    "'''\n",
    "Crea un programa que a partir de un precio que nosotros insertemos y una\n",
    "cantidad de volumen nos diga que si debemos invertir o no en el activo.\n",
    "El precio sobrevaluado es de 100 y el volumen mínino es de 10000.\n",
    "Como nota: en el caso de que el precio sea menor a 100 también deberás indicar \n",
    "que sea un volumen bueno, en caso de que el volumen sea menor a 10000, \n",
    "indicar que tenga cuidado al invertir\n",
    "\n",
    "'''\n",
    "\n",
    "precio=int(input('Inserte precio de la accion: '))\n",
    "volumen=int(input('Inserte volumen de la accion: '))\n",
    "if precio>100:\n",
    "    print('La accion esta sobrevaluado')\n",
    "else:\n",
    "    print('La accion esta subvaluada')    \n",
    "    if volumen>10000:\n",
    "        print('Tiene un buen volumen,  compremos')\n",
    "    else:\n",
    "      print('Tiene un volumen bajo,  ten cuidado al invertir')"
   ]
  },
  {
   "cell_type": "code",
   "execution_count": 13,
   "id": "dd223dc0-f476-4a97-a79b-47ec43f4985f",
   "metadata": {},
   "outputs": [
    {
     "name": "stdin",
     "output_type": "stream",
     "text": [
      "Inserte el nombre del activo:  AMD\n",
      "Inserte el precio del activo:  45\n",
      "Inserte el volumen del activo:  98212\n"
     ]
    },
    {
     "name": "stdout",
     "output_type": "stream",
     "text": [
      "AMD está subvaluado\n",
      "Tiene un buen volumen, compremos\n"
     ]
    }
   ],
   "source": [
    "nombre = input('Inserte el nombre del activo: ')\n",
    "activo = input('Inserte el precio del activo: ')\n",
    "volumen = input('Inserte el volumen del activo: ')\n",
    "\n",
    "if int(activo) > 100:\n",
    "    print(f'{nombre} está sobrevaluada, no es momento de invertir')\n",
    "elif int(activo) == 100: \n",
    "    print(f'{nombre} está a un buen precio') \n",
    "    if int(volumen) > 10000:\n",
    "        print('Tiene un buen volumen, compremos')\n",
    "    else:\n",
    "        print('Tiene un volumen bajo, no compremos')\n",
    "else:\n",
    "    print(f'{nombre} está subvaluado')\n",
    "    if int(volumen) > 10000:\n",
    "        print('Tiene un buen volumen, compremos')\n",
    "    else:\n",
    "        print('Tiene un volumen bajo, tengamos cuidado al invertir')"
   ]
  },
  {
   "cell_type": "markdown",
   "id": "c2138f93-40e2-42fe-a752-6ecca8c3dea6",
   "metadata": {},
   "source": [
    "# Loops: bucles\n",
    "- For que es para repetir rutinas de forma definida.\n",
    "- While  lo hace de forma indefinida."
   ]
  },
  {
   "cell_type": "code",
   "execution_count": null,
   "id": "e099b4e9-572d-42b8-a5b8-63d9aa7e49c6",
   "metadata": {},
   "outputs": [],
   "source": [
    "'''\n",
    "sintaxis:\n",
    "\n",
    "    for item in objeto:\n",
    "        {cuerpo del código}\n",
    "\n",
    "'''\n"
   ]
  },
  {
   "cell_type": "markdown",
   "id": "646e5a01-d27d-4482-b38f-9963e2677dee",
   "metadata": {},
   "source": [
    "# Loop for"
   ]
  },
  {
   "cell_type": "code",
   "execution_count": 17,
   "id": "534f9f45-2483-4750-8cef-c83402b18e05",
   "metadata": {},
   "outputs": [
    {
     "name": "stdout",
     "output_type": "stream",
     "text": [
      "AMD\n",
      "XOM\n",
      "TSLA\n"
     ]
    }
   ],
   "source": [
    "nombre = ['AMD', 'XOM', 'TSLA']\n",
    "\n",
    "#i es una variable interna (item) para entrar dentro del objeto o variable\n",
    "\n",
    "for i in nombre:\n",
    "    print(i)"
   ]
  },
  {
   "cell_type": "code",
   "execution_count": 19,
   "id": "daa50b66-8fca-492c-abcc-206cd2b71df9",
   "metadata": {},
   "outputs": [
    {
     "name": "stdout",
     "output_type": "stream",
     "text": [
      "La acción AMD está en un buen precio\n",
      "La acción XOM está en un buen precio\n",
      "La acción TSLA está en un buen precio\n"
     ]
    }
   ],
   "source": [
    "for i in nombre:\n",
    "    print('La acción ' + i + ' está en un buen precio')\n"
   ]
  },
  {
   "cell_type": "code",
   "execution_count": 21,
   "id": "238a8380-8a0d-4fe1-a92a-0a8f324000b7",
   "metadata": {},
   "outputs": [
    {
     "name": "stdout",
     "output_type": "stream",
     "text": [
      "15\n"
     ]
    }
   ],
   "source": [
    "#Ejemplos\n",
    "numeros = [1,2,3,4,5]\n",
    "valor = 0\n",
    "\n",
    "#impresión 1\n",
    "for numero in numeros:\n",
    "    valor = valor+numero\n",
    "print(valor)"
   ]
  },
  {
   "cell_type": "code",
   "execution_count": 23,
   "id": "8bb0cd36-1bd6-471c-a896-677898e9f4fd",
   "metadata": {},
   "outputs": [
    {
     "name": "stdout",
     "output_type": "stream",
     "text": [
      "16\n",
      "18\n",
      "21\n",
      "25\n",
      "30\n"
     ]
    }
   ],
   "source": [
    "#impresión 2\n",
    "for numero in numeros:\n",
    "    valor = valor+numero\n",
    "    print(valor)"
   ]
  },
  {
   "cell_type": "code",
   "execution_count": 25,
   "id": "1d53bd1d-428d-48e1-ab27-d3449a325f7b",
   "metadata": {},
   "outputs": [
    {
     "name": "stdout",
     "output_type": "stream",
     "text": [
      "AMD\n",
      "AMC\n",
      "GOOGL\n"
     ]
    }
   ],
   "source": [
    "#Para diccionarios\n",
    "precios = {'AMD': 59, 'AMC': 88, 'GOOGL':120}\n",
    "\n",
    "for item in precios:\n",
    "    print(item)"
   ]
  },
  {
   "cell_type": "code",
   "execution_count": 27,
   "id": "361ca6fa-d85a-4027-972f-2579b0d4af7e",
   "metadata": {},
   "outputs": [
    {
     "name": "stdout",
     "output_type": "stream",
     "text": [
      "('AMD', 59)\n",
      "('AMC', 88)\n",
      "('GOOGL', 120)\n"
     ]
    }
   ],
   "source": [
    "for item in precios.items():\n",
    "    print(item)"
   ]
  },
  {
   "cell_type": "code",
   "execution_count": 29,
   "id": "b1361383-8aec-4a31-a53a-5cbe9c1063c9",
   "metadata": {},
   "outputs": [
    {
     "name": "stdout",
     "output_type": "stream",
     "text": [
      "59\n",
      "88\n",
      "120\n"
     ]
    }
   ],
   "source": [
    "for item in precios.values():\n",
    "    print(item)"
   ]
  },
  {
   "cell_type": "code",
   "execution_count": 31,
   "id": "04054bbf-a410-4008-a542-7ca777f712c9",
   "metadata": {},
   "outputs": [
    {
     "name": "stdout",
     "output_type": "stream",
     "text": [
      "AMD 59\n",
      "AMC 88\n",
      "GOOGL 120\n"
     ]
    }
   ],
   "source": [
    "for a,b in precios.items():\n",
    "    print(a,b)"
   ]
  },
  {
   "cell_type": "markdown",
   "id": "1ad7c803-d190-450c-9162-b2ca8b4ef351",
   "metadata": {},
   "source": [
    "# Loop While\n",
    "- Mientras se cumpla\n",
    "- Podemos añadir else si no se cumple para detener ciclos infinitos"
   ]
  },
  {
   "cell_type": "code",
   "execution_count": 34,
   "id": "b19aa967-9fd5-4cd0-a293-62d176592f6e",
   "metadata": {},
   "outputs": [
    {
     "name": "stdout",
     "output_type": "stream",
     "text": [
      "Tengo 5 monedas\n",
      "Tengo 4 monedas\n",
      "Tengo 3 monedas\n",
      "Tengo 2 monedas\n",
      "Tengo 1 monedas\n"
     ]
    }
   ],
   "source": [
    "monedas = 5\n",
    "\n",
    "while monedas > 0:\n",
    "    print(f'Tengo {monedas} monedas')\n",
    "    monedas = monedas-1"
   ]
  },
  {
   "cell_type": "code",
   "execution_count": 36,
   "id": "8c3aecc9-7c96-403d-97ef-80daebadb17e",
   "metadata": {},
   "outputs": [
    {
     "name": "stdout",
     "output_type": "stream",
     "text": [
      "Ya no tengo monedas\n"
     ]
    }
   ],
   "source": [
    "while monedas > 0:\n",
    "    print(f'Tengo {monedas} monedas')\n",
    "    monedas -= 1\n",
    "else:\n",
    "    print('Ya no tengo monedas')"
   ]
  },
  {
   "cell_type": "markdown",
   "id": "56c6eea1-60d6-40c4-9430-f7351b1b22e8",
   "metadata": {},
   "source": [
    "# Range: rango"
   ]
  },
  {
   "cell_type": "code",
   "execution_count": 39,
   "id": "8eef5561-5c93-4e59-b85a-381ad0590a6d",
   "metadata": {},
   "outputs": [
    {
     "name": "stdout",
     "output_type": "stream",
     "text": [
      "0\n",
      "1\n",
      "2\n",
      "3\n",
      "4\n"
     ]
    }
   ],
   "source": [
    "for i in range(5):\n",
    "    print(i)"
   ]
  },
  {
   "cell_type": "code",
   "execution_count": 41,
   "id": "674307b9-0b1a-45bc-beec-c1bb4607189a",
   "metadata": {},
   "outputs": [
    {
     "name": "stdout",
     "output_type": "stream",
     "text": [
      "3\n",
      "4\n"
     ]
    }
   ],
   "source": [
    "#Desde dónde\n",
    "for i in range(3,5):\n",
    "    print(i)"
   ]
  },
  {
   "cell_type": "code",
   "execution_count": 43,
   "id": "092fef67-f47a-48c0-952d-d1c6d558f8ac",
   "metadata": {},
   "outputs": [
    {
     "name": "stdout",
     "output_type": "stream",
     "text": [
      "5\n",
      "8\n",
      "11\n",
      "14\n"
     ]
    }
   ],
   "source": [
    "#Pasos\n",
    "for i in range(5,15,3):\n",
    "    print(i)"
   ]
  },
  {
   "cell_type": "code",
   "execution_count": 45,
   "id": "c095c6f2-270e-45bf-b249-1d7783ebca06",
   "metadata": {},
   "outputs": [
    {
     "name": "stdout",
     "output_type": "stream",
     "text": [
      "[1, 2, 3, 4, 5, 6, 7, 8, 9, 10, 11, 12, 13, 14, 15, 16, 17, 18, 19, 20, 21, 22, 23, 24, 25, 26, 27, 28, 29, 30, 31, 32, 33, 34, 35, 36, 37, 38, 39, 40, 41, 42, 43, 44, 45, 46, 47, 48, 49]\n"
     ]
    }
   ],
   "source": [
    "#Si queremos hacer una lista de rangos\n",
    "lista = list(range(1,50))\n",
    "print(lista)"
   ]
  },
  {
   "cell_type": "code",
   "execution_count": 47,
   "id": "a439a590-82e7-4cde-a628-b75353a12d98",
   "metadata": {},
   "outputs": [
    {
     "name": "stdout",
     "output_type": "stream",
     "text": [
      "2840\n"
     ]
    }
   ],
   "source": [
    "#Ejercicio\n",
    "\"Suma de los cuadrados del 5-20\"\n",
    "\n",
    "cuadrados = 0\n",
    "\n",
    "for i in range(5,21):\n",
    "    i = i**2\n",
    "    cuadrados = cuadrados + i\n",
    "print(cuadrados)"
   ]
  },
  {
   "cell_type": "markdown",
   "id": "757ea84b-a14c-41af-8057-65ec93630fa5",
   "metadata": {},
   "source": [
    "# Min, Max"
   ]
  },
  {
   "cell_type": "code",
   "execution_count": 52,
   "id": "67d9e0f1-499a-422b-beaa-eb0593932c69",
   "metadata": {},
   "outputs": [
    {
     "name": "stdout",
     "output_type": "stream",
     "text": [
      "12\n"
     ]
    }
   ],
   "source": [
    "lista = min(12,456,9975,2134,23)\n",
    "print(lista)"
   ]
  },
  {
   "cell_type": "code",
   "execution_count": 54,
   "id": "0e9c39c4-8846-4647-ae96-4e2ba72789d0",
   "metadata": {},
   "outputs": [
    {
     "name": "stdout",
     "output_type": "stream",
     "text": [
      "9975\n"
     ]
    }
   ],
   "source": [
    "lista = max(12,456,9975,2134,23)\n",
    "print(lista)"
   ]
  },
  {
   "cell_type": "code",
   "execution_count": 56,
   "id": "4ead80e6-2f1d-4355-b2ab-0cf36684629f",
   "metadata": {},
   "outputs": [
    {
     "name": "stdout",
     "output_type": "stream",
     "text": [
      "9975\n"
     ]
    }
   ],
   "source": [
    "lista = [12,456,9975,2134,23]\n",
    "print(max(lista))"
   ]
  },
  {
   "cell_type": "code",
   "execution_count": null,
   "id": "007901a3-ebd3-4294-acbc-5a366878747a",
   "metadata": {},
   "outputs": [],
   "source": [
    "#Ejercico\n",
    "'''\n",
    "Calcula la diferencia entre el máximo y mínimo de la siguiente lista:\n",
    "   \n",
    "    lista = [1569,18856,3669,1447,258,369,6587,1479,258]\n",
    "\n",
    "'''"
   ]
  },
  {
   "cell_type": "code",
   "execution_count": 58,
   "id": "96f649f6-0de9-4e43-9233-05eb6d639421",
   "metadata": {},
   "outputs": [
    {
     "name": "stdout",
     "output_type": "stream",
     "text": [
      "18598\n"
     ]
    }
   ],
   "source": [
    "lista = [1569,18856,3669,1447,258,369,6587,1479,258]\n",
    "print(max(lista)-min(lista))"
   ]
  },
  {
   "cell_type": "code",
   "execution_count": 60,
   "id": "afcd0b7b-3eb5-47e5-8e25-b03f89b1bb79",
   "metadata": {},
   "outputs": [
    {
     "name": "stdout",
     "output_type": "stream",
     "text": [
      "18856\n"
     ]
    }
   ],
   "source": [
    "lista1=max(1568,18856,3669,1447,258,369,6587,1479,258)\n",
    "print(lista1)"
   ]
  },
  {
   "cell_type": "code",
   "execution_count": 62,
   "id": "cdfc0c88-2065-454c-9b11-a48e90eddb05",
   "metadata": {},
   "outputs": [
    {
     "name": "stdout",
     "output_type": "stream",
     "text": [
      "258\n"
     ]
    }
   ],
   "source": [
    "lista2=min(1568,18856,3669,1447,258,369,6587,1479,258)\n",
    "print(lista2)"
   ]
  },
  {
   "cell_type": "code",
   "execution_count": 64,
   "id": "1fbb0d43-f717-4d2a-80af-3d0a9e59f2e2",
   "metadata": {},
   "outputs": [
    {
     "name": "stdout",
     "output_type": "stream",
     "text": [
      "18598\n"
     ]
    }
   ],
   "source": [
    "diferencia=lista1-lista2\n",
    "print(diferencia)"
   ]
  },
  {
   "cell_type": "markdown",
   "id": "1d06f8dc-9bab-4215-a6ea-9a6e9803c043",
   "metadata": {},
   "source": [
    "# Random  \n",
    "\n",
    "- randint() random integer."
   ]
  },
  {
   "cell_type": "code",
   "execution_count": 68,
   "id": "7b69f4be-5e86-4c80-9c81-252ea1a3c13b",
   "metadata": {},
   "outputs": [
    {
     "data": {
      "text/plain": [
       "8"
      ]
     },
     "execution_count": 68,
     "metadata": {},
     "output_type": "execute_result"
    }
   ],
   "source": [
    "from random import randint\n",
    "\n",
    "randint(1,10)"
   ]
  },
  {
   "cell_type": "code",
   "execution_count": 70,
   "id": "c92500d8-c35b-4dfc-8e51-5093d20577e3",
   "metadata": {},
   "outputs": [
    {
     "name": "stdout",
     "output_type": "stream",
     "text": [
      "1.6744594470653493\n"
     ]
    }
   ],
   "source": [
    "from random import * \n",
    "#uniform \n",
    "aleatorio = uniform(1,5)\n",
    "print(aleatorio)"
   ]
  },
  {
   "cell_type": "code",
   "execution_count": 72,
   "id": "82730735-a839-402c-b34a-18a5aeca6aa5",
   "metadata": {},
   "outputs": [
    {
     "name": "stdout",
     "output_type": "stream",
     "text": [
      "4.27\n"
     ]
    }
   ],
   "source": [
    "aleatorio = round(uniform(1,5),2)\n",
    "print(aleatorio)"
   ]
  },
  {
   "cell_type": "code",
   "execution_count": null,
   "id": "5972bb4c-76d7-45c2-bc18-46ae4162680c",
   "metadata": {},
   "outputs": [],
   "source": []
  }
 ],
 "metadata": {
  "kernelspec": {
   "display_name": "Python 3 (ipykernel)",
   "language": "python",
   "name": "python3"
  },
  "language_info": {
   "codemirror_mode": {
    "name": "ipython",
    "version": 3
   },
   "file_extension": ".py",
   "mimetype": "text/x-python",
   "name": "python",
   "nbconvert_exporter": "python",
   "pygments_lexer": "ipython3",
   "version": "3.11.7"
  }
 },
 "nbformat": 4,
 "nbformat_minor": 5
}
