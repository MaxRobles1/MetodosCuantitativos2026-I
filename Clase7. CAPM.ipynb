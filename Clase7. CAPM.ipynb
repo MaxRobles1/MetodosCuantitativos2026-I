{
 "cells": [
  {
   "cell_type": "markdown",
   "id": "2c697afd",
   "metadata": {},
   "source": [
    "<font color=\"Teal\" face=\"Arial\">\n",
    "  <h1 align=\"center\"><i>MODELO CAPM</i></h1>\n",
    "  </font>\n",
    "  <font color=\"Black\" face=\"Arial\">\n",
    "  <h5 align=\"center\"><i>Maximino Jiménez Robles</i></h5>\n",
    "  <h5 align=\"center\"><i>Ayudantías</i></h5>\n",
    "  </font>"
   ]
  },
  {
   "cell_type": "markdown",
   "id": "70001693",
   "metadata": {},
   "source": [
    "\n",
    "Supongamos que se tiene un portafolio de n activos con pesos equitativos $w_1,w_2,...,w_n$ , esto implica que el rendimiento del portafolio de acuerdo al CAPM está dado como:  \n",
    "$$\\bar{r_p} = r_f + \\beta_p \\times (E(r_m) - r_f)$$\n",
    "\n",
    "**¿Cómo se calcula la beta del portafolio?**  \n",
    "\n",
    "$$\\beta_p = \\frac{Cov(r_p,r_m)}{\\sigma^2_m} = \\frac{Cov(\\sum_{i=1}^{n}w_ir_i,r_m)}{\\sigma^2_m} = \\sum_{i=1}^{n}w_i \\frac{Cov(r_i,r_m)}{\\sigma^2_m} = \\sum_{i=1}^{n}w_i \\beta_i$$"
   ]
  },
  {
   "cell_type": "markdown",
   "id": "aa25f23f",
   "metadata": {},
   "source": [
    "## Tipos de Rendimientos\n",
    "\n",
    "**Rendimiento Aritmético:**\n",
    "\n",
    "$$\\text{Rendimiento Aritmético} = \\frac{P_t - P_{t-1}}{P_{t-1}}$$\n",
    "\n",
    "\n",
    "**Rendimiento Logarítmico (ln):**\n",
    "\n",
    "$$\\text{Rendimiento Logarítmico} = \\ln\\left(\\frac{P_t}{P_{t-1}}\\right)$$\n",
    "\n",
    "Donde:  \n",
    "- $P_t$ es el precio del período actual.\n",
    "- $P_{t-1}$ es el precio del período anterior."
   ]
  },
  {
   "cell_type": "markdown",
   "id": "29fb38ee",
   "metadata": {},
   "source": [
    "## Ejemplo:  \n",
    "Supongamos que tenemos una cierta cartera con la siguiente información:  \n",
    "\n",
    "|Activos|Número de acciones|Precio x acción|$\\bar{r_i}$| $\\sigma$|\n",
    "|--------------|--------------|--------------|--------------|--------------|\n",
    "|$$A$$|$$30$$|$$3.2$$|$$20%$$|$$22%$$|\n",
    "|$$B$$|$$50$$|$$4.1$$| $$13%$$|$$11%$$|  \n",
    "\n",
    "Vamos a suponer que se cumple el supuesto de **CAPM**, $\\rho_{A,B} = 3/5$. Calcular lo siguiente:   \n",
    "1. El retorno del mercado.  \n",
    "2. La desviación o volatilidad del mercado.\n",
    "3. La beta para el activo A y B.  \n",
    "4. La tasa libre de riesgo."
   ]
  },
  {
   "cell_type": "markdown",
   "id": "65c2e9e9",
   "metadata": {},
   "source": [
    "## Solución 1: Retorno del mercado\n",
    "Vamos a calcular primeramente el valor de mercado de nuestro portafolio, entonces:  \n",
    "$$ v_m = \\$_A*\\#_A + \\$_B*\\#_B $$  "
   ]
  },
  {
   "cell_type": "code",
   "execution_count": 1,
   "id": "3dcceb8d",
   "metadata": {},
   "outputs": [],
   "source": [
    "# Variables \n",
    "corr_AB = 3/5\n",
    "num_A = 30\n",
    "num_B = 50\n",
    "p_A = 3.2\n",
    "p_B = 4.1\n",
    "r_A = .20\n",
    "r_B = .13\n",
    "desv_A = 0.22\n",
    "desv_B = 0.11"
   ]
  },
  {
   "cell_type": "markdown",
   "id": "a494234c",
   "metadata": {},
   "source": [
    "Para los pesos de cada activo sabemos que:  \n",
    "<div style=\"text-align: center;\">\n",
    "$\\sum_{i=1}^{n}w_i = 1$, para toda $w_i\\geq 0$ con $i = 1,...n$  \n",
    "    \n",
    "$$\\Rightarrow w_A + w_B = 1$$  \n"
   ]
  },
  {
   "cell_type": "code",
   "execution_count": 3,
   "id": "aa7739bc",
   "metadata": {},
   "outputs": [
    {
     "name": "stdout",
     "output_type": "stream",
     "text": [
      "El portafolio tiene un valor de 301.000 dólares\n"
     ]
    }
   ],
   "source": [
    "v_m = p_A*num_A+p_B*num_B\n",
    "print(f\"El portafolio tiene un valor de {v_m:.3f} dólares\")"
   ]
  },
  {
   "cell_type": "markdown",
   "id": "6ffbc66d",
   "metadata": {},
   "source": [
    "**Calculamos los pesos ya que tenemos el valor del portafolio.**"
   ]
  },
  {
   "cell_type": "code",
   "execution_count": 4,
   "id": "a4ea96eb",
   "metadata": {},
   "outputs": [
    {
     "name": "stdout",
     "output_type": "stream",
     "text": [
      "El peso para el activo A es: 0.31894\n"
     ]
    }
   ],
   "source": [
    "w_A = (p_A*num_A)/v_m\n",
    "print(f\"El peso para el activo A es: {w_A:.5f}\") #.3f es para imprimir los decimales que queramos"
   ]
  },
  {
   "cell_type": "code",
   "execution_count": 5,
   "id": "06f4ee29",
   "metadata": {},
   "outputs": [
    {
     "name": "stdout",
     "output_type": "stream",
     "text": [
      "El peso para el activo A es: 0.68106\n"
     ]
    }
   ],
   "source": [
    "w_B = (p_B*num_B)/v_m\n",
    "print(f\"El peso para el activo A es: {w_B:.5f}\")"
   ]
  },
  {
   "cell_type": "code",
   "execution_count": 6,
   "id": "e81d8c0b",
   "metadata": {},
   "outputs": [
    {
     "name": "stdout",
     "output_type": "stream",
     "text": [
      "0.9999999999999999\n"
     ]
    }
   ],
   "source": [
    "# Comprovemos \n",
    "print(w_A+w_B)"
   ]
  },
  {
   "cell_type": "markdown",
   "id": "d76ce4d6",
   "metadata": {},
   "source": [
    "**Nota: hacerlo de la siguiente forma es incorrecto, la manera correcta es la anterior.**"
   ]
  },
  {
   "cell_type": "code",
   "execution_count": 68,
   "id": "af7c04b5",
   "metadata": {},
   "outputs": [
    {
     "name": "stdout",
     "output_type": "stream",
     "text": [
      "El peso para el activo A es: 0.37500\n",
      "El peso para el activo A es: 0.62500\n"
     ]
    }
   ],
   "source": [
    "w_A = (num_A)/(num_A+num_B)\n",
    "print(f\"El peso para el activo A es: {w_A:.5f}\") #.3f es para imprimir los decimales que queramos\n",
    "w_B = (num_B)/(num_A+num_B)\n",
    "print(f\"El peso para el activo A es: {w_B:.5f}\")"
   ]
  },
  {
   "cell_type": "markdown",
   "id": "aca04d2a",
   "metadata": {},
   "source": [
    "**Ahora vamos a calcular los rendimientos esperados del mercado:**  \n",
    "Para eso tenemos que:  \n",
    "$$\\bar{r_m} = \\sum_{i=1}^{n}w_i E(r_i)$$"
   ]
  },
  {
   "cell_type": "code",
   "execution_count": 7,
   "id": "f9ea03ff",
   "metadata": {},
   "outputs": [
    {
     "name": "stdout",
     "output_type": "stream",
     "text": [
      "El rendimiento del mercado es: 15.233%\n"
     ]
    }
   ],
   "source": [
    "r_M = w_A * r_A + w_B * r_B\n",
    "print(f\"El rendimiento del mercado es: {r_M*100:.3f}%\")"
   ]
  },
  {
   "cell_type": "markdown",
   "id": "6fa7988e",
   "metadata": {},
   "source": [
    "## Solución 2: desviación o volatilidad del mercado"
   ]
  },
  {
   "cell_type": "markdown",
   "id": "4e3fea3d",
   "metadata": {},
   "source": [
    "<div style=\"text-align: center;\">\n",
    "$\\sigma^2_{r_{XY}} = \\sum_{i=1}^{n} \\sum_{j=1}^{n} w_X*w_Y * \\sigma_{ij} \\Leftrightarrow \\sigma_m = \\sqrt{w_X^2 \\sigma_X^2 + 2w_Xw_Y \\sigma_{X,Y} + w_Y^2 \\sigma_Y^2}$ \n"
   ]
  },
  {
   "cell_type": "markdown",
   "id": "b97c0612",
   "metadata": {},
   "source": [
    "Sabemos que la $\\rho_{X,Y} = 3/5$ y por definición: \n",
    "$$\\rho(X, Y) = \\frac{\\sigma_{X,Y}}{\\sigma_X \\sigma_Y}$$  "
   ]
  },
  {
   "cell_type": "markdown",
   "id": "33848597",
   "metadata": {},
   "source": [
    "Así, obtenemos que la volatilidad del mercado es:"
   ]
  },
  {
   "cell_type": "code",
   "execution_count": 8,
   "id": "e965a52f",
   "metadata": {},
   "outputs": [],
   "source": [
    "import numpy as np # Ocuparemos sqrt de la librería, igual podrían ocupar una que se llama math"
   ]
  },
  {
   "cell_type": "code",
   "execution_count": 9,
   "id": "856212e8",
   "metadata": {},
   "outputs": [
    {
     "name": "stdout",
     "output_type": "stream",
     "text": [
      "La volatilidad del mercado es de 12.978%\n"
     ]
    }
   ],
   "source": [
    "desv_m = np.sqrt((w_A**2)*(desv_A**2)+2*w_A*w_B*(3/5)*desv_A*desv_B+(w_B**2)*(desv_B**2))\n",
    "print(f\"La volatilidad del mercado es de {desv_m*100:.3f}%\")"
   ]
  },
  {
   "cell_type": "markdown",
   "id": "4320adbf",
   "metadata": {},
   "source": [
    "**También pueden usar:**"
   ]
  },
  {
   "cell_type": "code",
   "execution_count": 10,
   "id": "eef784ba",
   "metadata": {},
   "outputs": [
    {
     "name": "stdout",
     "output_type": "stream",
     "text": [
      "La volatilidad del mercado es de 12.978%\n"
     ]
    }
   ],
   "source": [
    "import math as m\n",
    "desv_m = m.sqrt((w_A**2)*(desv_A**2)+2*w_A*w_B*(3/5)*desv_A*desv_B+(w_B**2)*(desv_B**2))\n",
    "print(f\"La volatilidad del mercado es de {desv_m*100:.3f}%\")"
   ]
  },
  {
   "cell_type": "markdown",
   "id": "cafd16f7",
   "metadata": {},
   "source": [
    "## Solución 3: La beta para el activo A. "
   ]
  },
  {
   "cell_type": "markdown",
   "id": "ae7520f5",
   "metadata": {},
   "source": [
    "Recordemos que: \n",
    "$$\\beta_i = \\frac{Cov(r_i,r_m)}{\\sigma^2_m}$$ \n",
    "De los datos y de la solución 1 y 2 sabemos que:  \n",
    "$\\bar{r_i} = 20\\%$"
   ]
  },
  {
   "cell_type": "markdown",
   "id": "2e3aef26",
   "metadata": {},
   "source": [
    "Y recordemos que la Cov de X,Y es de la siguiente forma:  \n",
    "$$\\rho(X, Y) = \\frac{\\sigma_{X,Y}}{\\sigma_X \\sigma_Y}$$  \n",
    "Entonces:  \n",
    "$\\text{Cov}(r_A, r_m) = \\rho_{A,m} \\cdot \\sigma_A \\cdot \\sigma_m  \\Rightarrow  \\beta_A = \\frac{\\text{Cov}(r_A, r_m)}{\\sigma_m^2} = \\frac{\\rho_{A,m} \\cdot \\sigma_A \\cdot \\sigma_m}{\\sigma_m^2}$ "
   ]
  },
  {
   "cell_type": "code",
   "execution_count": 11,
   "id": "4364f241",
   "metadata": {},
   "outputs": [
    {
     "name": "stdout",
     "output_type": "stream",
     "text": [
      "La covarianza del activo A respecto al mercado es de 0.01713\n"
     ]
    }
   ],
   "source": [
    "# Entonces tenemos que la cov de A es:\n",
    "cov_AM = corr_AB*desv_A*desv_m\n",
    "print(f\"La covarianza del activo A respecto al mercado es de {cov_AM:.5f}\")"
   ]
  },
  {
   "cell_type": "code",
   "execution_count": 12,
   "id": "72285db2",
   "metadata": {},
   "outputs": [
    {
     "name": "stdout",
     "output_type": "stream",
     "text": [
      "La beta del activo A es de 1.017077481249832\n"
     ]
    }
   ],
   "source": [
    "# Entonces tenemos que la beta de A es:\n",
    "beta_A = cov_AM/(desv_m**2)\n",
    "print(f\"La beta del activo A es de {beta_A}\")"
   ]
  },
  {
   "cell_type": "markdown",
   "id": "dcb32277",
   "metadata": {},
   "source": [
    "\n",
    "## Solución 4: La tasa libre de riesgo."
   ]
  },
  {
   "cell_type": "markdown",
   "id": "20dbffff",
   "metadata": {},
   "source": [
    "Por suposición sabemos que satisface el modelo de CAPM, esto implica que:   \n",
    "    $$\\bar{r_i} = r_f + \\beta_i \\times (E(r_m) - r_f)$$  \n",
    "    $$ \\Rightarrow 0.13 = r_f - 0.7917 \\times (0.1562 - r_f) $$  \n",
    "    $$\\Rightarrow 0.13 = r_f - 0.12366-0.7917r_f$$  \n",
    "    $$\\Rightarrow rf = \\frac{0.00634}{0.2083}$$\n"
   ]
  },
  {
   "cell_type": "code",
   "execution_count": 13,
   "id": "7490bdc5",
   "metadata": {},
   "outputs": [
    {
     "name": "stdout",
     "output_type": "stream",
     "text": [
      "La tasa libre de riesgo es de 3.044%\n"
     ]
    }
   ],
   "source": [
    "r_f = 0.00634/0.2083\n",
    "print(f\"La tasa libre de riesgo es de {r_f*100:.3f}%\")"
   ]
  },
  {
   "cell_type": "markdown",
   "id": "81c4c2e0",
   "metadata": {},
   "source": [
    "## Ejercicios para precios online"
   ]
  },
  {
   "cell_type": "code",
   "execution_count": 1,
   "id": "559ac778",
   "metadata": {},
   "outputs": [],
   "source": [
    "import numpy as np\n",
    "import pandas as pd\n",
    "import yfinance as yf"
   ]
  },
  {
   "cell_type": "code",
   "execution_count": 13,
   "id": "3ef65d88",
   "metadata": {},
   "outputs": [
    {
     "name": "stdout",
     "output_type": "stream",
     "text": [
      "[*********************100%%**********************]  1 of 1 completed\n",
      "[*********************100%%**********************]  1 of 1 completed\n"
     ]
    }
   ],
   "source": [
    "tickers = ['MSFT', '^GSPC']\n",
    "data = pd.DataFrame()\n",
    "for t in tickers:\n",
    "    data[t] = yf.download(t, start='2019-1-1', end='2023-08-11')['Adj Close']  "
   ]
  },
  {
   "cell_type": "code",
   "execution_count": 14,
   "id": "4367c251",
   "metadata": {},
   "outputs": [
    {
     "data": {
      "text/html": [
       "<div>\n",
       "<style scoped>\n",
       "    .dataframe tbody tr th:only-of-type {\n",
       "        vertical-align: middle;\n",
       "    }\n",
       "\n",
       "    .dataframe tbody tr th {\n",
       "        vertical-align: top;\n",
       "    }\n",
       "\n",
       "    .dataframe thead th {\n",
       "        text-align: right;\n",
       "    }\n",
       "</style>\n",
       "<table border=\"1\" class=\"dataframe\">\n",
       "  <thead>\n",
       "    <tr style=\"text-align: right;\">\n",
       "      <th></th>\n",
       "      <th>MSFT</th>\n",
       "      <th>^GSPC</th>\n",
       "    </tr>\n",
       "    <tr>\n",
       "      <th>Date</th>\n",
       "      <th></th>\n",
       "      <th></th>\n",
       "    </tr>\n",
       "  </thead>\n",
       "  <tbody>\n",
       "    <tr>\n",
       "      <th>2019-01-02</th>\n",
       "      <td>NaN</td>\n",
       "      <td>NaN</td>\n",
       "    </tr>\n",
       "    <tr>\n",
       "      <th>2019-01-03</th>\n",
       "      <td>-0.037482</td>\n",
       "      <td>-0.025068</td>\n",
       "    </tr>\n",
       "    <tr>\n",
       "      <th>2019-01-04</th>\n",
       "      <td>0.045460</td>\n",
       "      <td>0.033759</td>\n",
       "    </tr>\n",
       "    <tr>\n",
       "      <th>2019-01-07</th>\n",
       "      <td>0.001274</td>\n",
       "      <td>0.006986</td>\n",
       "    </tr>\n",
       "    <tr>\n",
       "      <th>2019-01-08</th>\n",
       "      <td>0.007224</td>\n",
       "      <td>0.009649</td>\n",
       "    </tr>\n",
       "  </tbody>\n",
       "</table>\n",
       "</div>"
      ],
      "text/plain": [
       "                MSFT     ^GSPC\n",
       "Date                          \n",
       "2019-01-02       NaN       NaN\n",
       "2019-01-03 -0.037482 -0.025068\n",
       "2019-01-04  0.045460  0.033759\n",
       "2019-01-07  0.001274  0.006986\n",
       "2019-01-08  0.007224  0.009649"
      ]
     },
     "execution_count": 14,
     "metadata": {},
     "output_type": "execute_result"
    }
   ],
   "source": [
    "retornos = np.log( data / data.shift() ) # Por defaul la diferencia lo hace en 1, por eso nos sale NaN en la primera\n",
    "retornos.head()"
   ]
  },
  {
   "cell_type": "code",
   "execution_count": 15,
   "id": "5eef7253",
   "metadata": {},
   "outputs": [
    {
     "data": {
      "text/html": [
       "<div>\n",
       "<style scoped>\n",
       "    .dataframe tbody tr th:only-of-type {\n",
       "        vertical-align: middle;\n",
       "    }\n",
       "\n",
       "    .dataframe tbody tr th {\n",
       "        vertical-align: top;\n",
       "    }\n",
       "\n",
       "    .dataframe thead th {\n",
       "        text-align: right;\n",
       "    }\n",
       "</style>\n",
       "<table border=\"1\" class=\"dataframe\">\n",
       "  <thead>\n",
       "    <tr style=\"text-align: right;\">\n",
       "      <th></th>\n",
       "      <th>MSFT</th>\n",
       "      <th>^GSPC</th>\n",
       "    </tr>\n",
       "    <tr>\n",
       "      <th>Date</th>\n",
       "      <th></th>\n",
       "      <th></th>\n",
       "    </tr>\n",
       "  </thead>\n",
       "  <tbody>\n",
       "    <tr>\n",
       "      <th>2019-01-03</th>\n",
       "      <td>-0.037482</td>\n",
       "      <td>-0.025068</td>\n",
       "    </tr>\n",
       "    <tr>\n",
       "      <th>2019-01-04</th>\n",
       "      <td>0.045460</td>\n",
       "      <td>0.033759</td>\n",
       "    </tr>\n",
       "    <tr>\n",
       "      <th>2019-01-07</th>\n",
       "      <td>0.001274</td>\n",
       "      <td>0.006986</td>\n",
       "    </tr>\n",
       "    <tr>\n",
       "      <th>2019-01-08</th>\n",
       "      <td>0.007224</td>\n",
       "      <td>0.009649</td>\n",
       "    </tr>\n",
       "    <tr>\n",
       "      <th>2019-01-09</th>\n",
       "      <td>0.014199</td>\n",
       "      <td>0.004090</td>\n",
       "    </tr>\n",
       "    <tr>\n",
       "      <th>2019-01-10</th>\n",
       "      <td>-0.006447</td>\n",
       "      <td>0.004508</td>\n",
       "    </tr>\n",
       "    <tr>\n",
       "      <th>2019-01-11</th>\n",
       "      <td>-0.007752</td>\n",
       "      <td>-0.000146</td>\n",
       "    </tr>\n",
       "    <tr>\n",
       "      <th>2019-01-14</th>\n",
       "      <td>-0.007322</td>\n",
       "      <td>-0.005271</td>\n",
       "    </tr>\n",
       "  </tbody>\n",
       "</table>\n",
       "</div>"
      ],
      "text/plain": [
       "                MSFT     ^GSPC\n",
       "Date                          \n",
       "2019-01-03 -0.037482 -0.025068\n",
       "2019-01-04  0.045460  0.033759\n",
       "2019-01-07  0.001274  0.006986\n",
       "2019-01-08  0.007224  0.009649\n",
       "2019-01-09  0.014199  0.004090\n",
       "2019-01-10 -0.006447  0.004508\n",
       "2019-01-11 -0.007752 -0.000146\n",
       "2019-01-14 -0.007322 -0.005271"
      ]
     },
     "execution_count": 15,
     "metadata": {},
     "output_type": "execute_result"
    }
   ],
   "source": [
    "NaNrendimientos = retornos.dropna()\n",
    "NaNrendimientos.head(8)"
   ]
  },
  {
   "cell_type": "code",
   "execution_count": 16,
   "id": "03df4711",
   "metadata": {},
   "outputs": [
    {
     "data": {
      "text/html": [
       "<div>\n",
       "<style scoped>\n",
       "    .dataframe tbody tr th:only-of-type {\n",
       "        vertical-align: middle;\n",
       "    }\n",
       "\n",
       "    .dataframe tbody tr th {\n",
       "        vertical-align: top;\n",
       "    }\n",
       "\n",
       "    .dataframe thead th {\n",
       "        text-align: right;\n",
       "    }\n",
       "</style>\n",
       "<table border=\"1\" class=\"dataframe\">\n",
       "  <thead>\n",
       "    <tr style=\"text-align: right;\">\n",
       "      <th></th>\n",
       "      <th>MSFT</th>\n",
       "      <th>^GSPC</th>\n",
       "    </tr>\n",
       "  </thead>\n",
       "  <tbody>\n",
       "    <tr>\n",
       "      <th>MSFT</th>\n",
       "      <td>0.097664</td>\n",
       "      <td>0.057473</td>\n",
       "    </tr>\n",
       "    <tr>\n",
       "      <th>^GSPC</th>\n",
       "      <td>0.057473</td>\n",
       "      <td>0.048485</td>\n",
       "    </tr>\n",
       "  </tbody>\n",
       "</table>\n",
       "</div>"
      ],
      "text/plain": [
       "           MSFT     ^GSPC\n",
       "MSFT   0.097664  0.057473\n",
       "^GSPC  0.057473  0.048485"
      ]
     },
     "execution_count": 16,
     "metadata": {},
     "output_type": "execute_result"
    }
   ],
   "source": [
    "cov = NaNrendimientos.cov() * 252\n",
    "cov"
   ]
  },
  {
   "cell_type": "code",
   "execution_count": 17,
   "id": "26f0869e",
   "metadata": {},
   "outputs": [
    {
     "data": {
      "text/plain": [
       "0.05747307021206883"
      ]
     },
     "execution_count": 17,
     "metadata": {},
     "output_type": "execute_result"
    }
   ],
   "source": [
    "cov_con_mercado = cov.iloc[0,1] # Covancia(x,y)\n",
    "cov_con_mercado"
   ]
  },
  {
   "cell_type": "code",
   "execution_count": 18,
   "id": "b4721f60",
   "metadata": {},
   "outputs": [
    {
     "data": {
      "text/plain": [
       "0.048485436326058375"
      ]
     },
     "execution_count": 18,
     "metadata": {},
     "output_type": "execute_result"
    }
   ],
   "source": [
    "var_mercado = NaNrendimientos['^GSPC'].var() * 252 # 252 Datos\n",
    "var_mercado"
   ]
  },
  {
   "cell_type": "code",
   "execution_count": 19,
   "id": "aa87c7d8",
   "metadata": {},
   "outputs": [
    {
     "data": {
      "text/plain": [
       "1.1853677014592539"
      ]
     },
     "execution_count": 19,
     "metadata": {},
     "output_type": "execute_result"
    }
   ],
   "source": [
    "MSFT_beta = cov_con_mercado / var_mercado\n",
    "MSFT_beta"
   ]
  },
  {
   "cell_type": "markdown",
   "id": "3402638f",
   "metadata": {},
   "source": [
    "## Sin quitar los NaN"
   ]
  },
  {
   "cell_type": "code",
   "execution_count": 4,
   "id": "31d6f6be",
   "metadata": {},
   "outputs": [
    {
     "data": {
      "text/html": [
       "<div>\n",
       "<style scoped>\n",
       "    .dataframe tbody tr th:only-of-type {\n",
       "        vertical-align: middle;\n",
       "    }\n",
       "\n",
       "    .dataframe tbody tr th {\n",
       "        vertical-align: top;\n",
       "    }\n",
       "\n",
       "    .dataframe thead th {\n",
       "        text-align: right;\n",
       "    }\n",
       "</style>\n",
       "<table border=\"1\" class=\"dataframe\">\n",
       "  <thead>\n",
       "    <tr style=\"text-align: right;\">\n",
       "      <th></th>\n",
       "      <th>MSFT</th>\n",
       "      <th>^GSPC</th>\n",
       "    </tr>\n",
       "  </thead>\n",
       "  <tbody>\n",
       "    <tr>\n",
       "      <th>MSFT</th>\n",
       "      <td>0.097664</td>\n",
       "      <td>0.057473</td>\n",
       "    </tr>\n",
       "    <tr>\n",
       "      <th>^GSPC</th>\n",
       "      <td>0.057473</td>\n",
       "      <td>0.048485</td>\n",
       "    </tr>\n",
       "  </tbody>\n",
       "</table>\n",
       "</div>"
      ],
      "text/plain": [
       "           MSFT     ^GSPC\n",
       "MSFT   0.097664  0.057473\n",
       "^GSPC  0.057473  0.048485"
      ]
     },
     "execution_count": 4,
     "metadata": {},
     "output_type": "execute_result"
    }
   ],
   "source": [
    "cov = retornos.cov() * 252\n",
    "cov"
   ]
  },
  {
   "cell_type": "code",
   "execution_count": 5,
   "id": "81361085",
   "metadata": {},
   "outputs": [
    {
     "data": {
      "text/plain": [
       "0.05747309263016299"
      ]
     },
     "execution_count": 5,
     "metadata": {},
     "output_type": "execute_result"
    }
   ],
   "source": [
    "cov_con_mercado = cov.iloc[0,1] # Covancia(x,y)\n",
    "cov_con_mercado"
   ]
  },
  {
   "cell_type": "code",
   "execution_count": 6,
   "id": "7ba7d24b",
   "metadata": {},
   "outputs": [
    {
     "data": {
      "text/plain": [
       "0.048485436326058375"
      ]
     },
     "execution_count": 6,
     "metadata": {},
     "output_type": "execute_result"
    }
   ],
   "source": [
    "var_mercado = retornos['^GSPC'].var() * 252 # 252 Datos\n",
    "var_mercado"
   ]
  },
  {
   "cell_type": "code",
   "execution_count": 7,
   "id": "91ec7a07",
   "metadata": {},
   "outputs": [
    {
     "data": {
      "text/plain": [
       "1.18536816382684"
      ]
     },
     "execution_count": 7,
     "metadata": {},
     "output_type": "execute_result"
    }
   ],
   "source": [
    "MSFT_beta = cov_con_mercado / var_mercado\n",
    "MSFT_beta"
   ]
  },
  {
   "cell_type": "markdown",
   "id": "83c1853c",
   "metadata": {},
   "source": [
    "Observamos lo mismo, pero en los caso de carteras, esto provocaría errores en ocasiones."
   ]
  }
 ],
 "metadata": {
  "kernelspec": {
   "display_name": "Python 3 (ipykernel)",
   "language": "python",
   "name": "python3"
  },
  "language_info": {
   "codemirror_mode": {
    "name": "ipython",
    "version": 3
   },
   "file_extension": ".py",
   "mimetype": "text/x-python",
   "name": "python",
   "nbconvert_exporter": "python",
   "pygments_lexer": "ipython3",
   "version": "3.11.7"
  }
 },
 "nbformat": 4,
 "nbformat_minor": 5
}
